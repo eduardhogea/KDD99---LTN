{
 "cells": [
  {
   "cell_type": "code",
   "execution_count": 22,
   "id": "52e3eb45-ead2-4b4b-8f05-9a8d5a5e2ab1",
   "metadata": {},
   "outputs": [],
   "source": [
    "import pandas as pd\n",
    "import numpy as np\n",
    "import matplotlib\n",
    "import matplotlib.pyplot as plt\n",
    "import seaborn as sns"
   ]
  },
  {
   "cell_type": "code",
   "execution_count": 23,
   "id": "26d5e4cf-84ff-4c30-8ef5-40699a83dbcd",
   "metadata": {},
   "outputs": [],
   "source": [
    "df = pd.read_csv(\"kddcup99.csv\", skipinitialspace = True)"
   ]
  },
  {
   "cell_type": "code",
   "execution_count": 24,
   "id": "7eb54205-ea71-496d-bf7b-dc1bfc24796b",
   "metadata": {},
   "outputs": [],
   "source": [
    "input_cols = list(df.columns)[1:-1]\n",
    "target_col = 'label'\n",
    "numeric_cols = df.select_dtypes(include=np.number).columns.tolist()[:-1]"
   ]
  },
  {
   "cell_type": "code",
   "execution_count": 25,
   "id": "34039514-d856-451e-957f-096b23e5a4ea",
   "metadata": {},
   "outputs": [],
   "source": [
    "from sklearn.preprocessing import MinMaxScaler\n",
    "scaler = MinMaxScaler()\n",
    "scaler.fit(df[numeric_cols])\n",
    "df[numeric_cols] = scaler.transform(df[numeric_cols])"
   ]
  },
  {
   "cell_type": "code",
   "execution_count": 26,
   "id": "cb0a6246-f367-45c4-b96b-c1358918dc4f",
   "metadata": {},
   "outputs": [],
   "source": [
    "from sklearn.preprocessing import LabelEncoder\n",
    "le = LabelEncoder()\n",
    "\n",
    "target = df['label']\n",
    "df['label'] = le.fit_transform(target)\n",
    "df['protocol_type'] = le.fit_transform(df['protocol_type'])\n",
    "df['service'] = le.fit_transform(df['service'])\n",
    "df['flag'] = le.fit_transform(df['flag'])"
   ]
  },
  {
   "cell_type": "code",
   "execution_count": 27,
   "id": "14b4ff72-6d0d-4d67-9a72-94b82572f545",
   "metadata": {},
   "outputs": [
    {
     "name": "stdout",
     "output_type": "stream",
     "text": [
      "(345814, 42)\n",
      "(148206, 42)\n"
     ]
    }
   ],
   "source": [
    "from sklearn.model_selection import train_test_split\n",
    "train_df, test_df = train_test_split(df, test_size=0.3, random_state=42)\n",
    "print(train_df.shape)\n",
    "print(test_df.shape)"
   ]
  },
  {
   "cell_type": "code",
   "execution_count": 28,
   "id": "c05854cf-144a-4a1b-81a9-096b661c0137",
   "metadata": {},
   "outputs": [],
   "source": [
    "train_inputs = train_df[input_cols].copy()\n",
    "train_targets = train_df[target_col].copy()\n",
    "test_inputs = test_df[input_cols].copy()\n",
    "test_targets = test_df[target_col].copy()"
   ]
  },
  {
   "cell_type": "code",
   "execution_count": 29,
   "id": "83d6554e-ed35-49da-bb23-71330b2e341f",
   "metadata": {},
   "outputs": [
    {
     "name": "stdout",
     "output_type": "stream",
     "text": [
      "Index(['protocol_type', 'service', 'srv_count', 'diff_srv_rate',\n",
      "       'dst_host_same_srv_rate', 'dst_host_same_src_port_rate'],\n",
      "      dtype='object')\n",
      "6\n"
     ]
    }
   ],
   "source": [
    "from sklearn.ensemble import RandomForestClassifier\n",
    "from sklearn.feature_selection import SelectFromModel\n",
    "sel = SelectFromModel(RandomForestClassifier(n_estimators = 5, random_state=42))\n",
    "sel.fit(train_inputs, train_targets)\n",
    "selected_feat = train_inputs.columns[(sel.get_support())]\n",
    "print(selected_feat)\n",
    "print(len(selected_feat))"
   ]
  },
  {
   "cell_type": "code",
   "execution_count": 43,
   "id": "270b26b6-386d-442f-b44d-780b82e8dc0d",
   "metadata": {},
   "outputs": [
    {
     "data": {
      "text/plain": [
       "0         normal\n",
       "1         normal\n",
       "2         normal\n",
       "3         normal\n",
       "4         normal\n",
       "           ...  \n",
       "494015    normal\n",
       "494016    normal\n",
       "494017    normal\n",
       "494018    normal\n",
       "494019    normal\n",
       "Name: label, Length: 494020, dtype: object"
      ]
     },
     "execution_count": 43,
     "metadata": {},
     "output_type": "execute_result"
    }
   ],
   "source": [
    "target"
   ]
  },
  {
   "cell_type": "code",
   "execution_count": 54,
   "id": "0177f51e-bc5b-427a-9523-dc67cb4c8346",
   "metadata": {},
   "outputs": [],
   "source": [
    "model = Sequential()\n",
    "model.add(Dense(10, input_dim=40, kernel_initializer='normal', activation='relu'))\n",
    "model.add(Dense(50, input_dim=40, kernel_initializer='normal', activation='relu'))\n",
    "model.add(Dense(10, input_dim=40, kernel_initializer='normal', activation='relu'))\n",
    "model.add(Dense(23, kernel_initializer='normal'))\n",
    "model.add(Dense(23,activation='softmax'))\n",
    "model.compile(loss='categorical_crossentropy', optimizer='adam')"
   ]
  },
  {
   "cell_type": "code",
   "execution_count": 53,
   "id": "773bd0f1-3ea1-4f25-a6ab-ccdbb354cebc",
   "metadata": {},
   "outputs": [
    {
     "name": "stdout",
     "output_type": "stream",
     "text": [
      "Epoch 1/19\n"
     ]
    },
    {
     "ename": "ValueError",
     "evalue": "in user code:\n\n    File \"/Users/eduard.hogea/miniforge3/envs/tensorflow/lib/python3.9/site-packages/keras/engine/training.py\", line 878, in train_function  *\n        return step_function(self, iterator)\n    File \"/Users/eduard.hogea/miniforge3/envs/tensorflow/lib/python3.9/site-packages/keras/engine/training.py\", line 867, in step_function  **\n        outputs = model.distribute_strategy.run(run_step, args=(data,))\n    File \"/Users/eduard.hogea/miniforge3/envs/tensorflow/lib/python3.9/site-packages/keras/engine/training.py\", line 860, in run_step  **\n        outputs = model.train_step(data)\n    File \"/Users/eduard.hogea/miniforge3/envs/tensorflow/lib/python3.9/site-packages/keras/engine/training.py\", line 809, in train_step\n        loss = self.compiled_loss(\n    File \"/Users/eduard.hogea/miniforge3/envs/tensorflow/lib/python3.9/site-packages/keras/engine/compile_utils.py\", line 201, in __call__\n        loss_value = loss_obj(y_t, y_p, sample_weight=sw)\n    File \"/Users/eduard.hogea/miniforge3/envs/tensorflow/lib/python3.9/site-packages/keras/losses.py\", line 141, in __call__\n        losses = call_fn(y_true, y_pred)\n    File \"/Users/eduard.hogea/miniforge3/envs/tensorflow/lib/python3.9/site-packages/keras/losses.py\", line 245, in call  **\n        return ag_fn(y_true, y_pred, **self._fn_kwargs)\n    File \"/Users/eduard.hogea/miniforge3/envs/tensorflow/lib/python3.9/site-packages/keras/losses.py\", line 1664, in categorical_crossentropy\n        return backend.categorical_crossentropy(\n    File \"/Users/eduard.hogea/miniforge3/envs/tensorflow/lib/python3.9/site-packages/keras/backend.py\", line 4994, in categorical_crossentropy\n        target.shape.assert_is_compatible_with(output.shape)\n\n    ValueError: Shapes (None, 1) and (None, 10) are incompatible\n",
     "output_type": "error",
     "traceback": [
      "\u001b[0;31m---------------------------------------------------------------------------\u001b[0m",
      "\u001b[0;31mValueError\u001b[0m                                Traceback (most recent call last)",
      "\u001b[0;32m/var/folders/9m/k3vyv4317cz56g6f681k4jnm0000gn/T/ipykernel_18243/3232766776.py\u001b[0m in \u001b[0;36m<module>\u001b[0;34m\u001b[0m\n\u001b[0;32m----> 1\u001b[0;31m \u001b[0mmodel\u001b[0m\u001b[0;34m.\u001b[0m\u001b[0mfit\u001b[0m\u001b[0;34m(\u001b[0m\u001b[0mtrain_inputs\u001b[0m\u001b[0;34m,\u001b[0m\u001b[0mtrain_targets\u001b[0m\u001b[0;34m,\u001b[0m\u001b[0mvalidation_data\u001b[0m\u001b[0;34m=\u001b[0m\u001b[0;34m(\u001b[0m\u001b[0mtest_inputs\u001b[0m\u001b[0;34m,\u001b[0m\u001b[0mtest_targets\u001b[0m\u001b[0;34m)\u001b[0m\u001b[0;34m,\u001b[0m\u001b[0mverbose\u001b[0m\u001b[0;34m=\u001b[0m\u001b[0;36m1\u001b[0m\u001b[0;34m,\u001b[0m\u001b[0mepochs\u001b[0m\u001b[0;34m=\u001b[0m\u001b[0;36m19\u001b[0m\u001b[0;34m)\u001b[0m\u001b[0;34m\u001b[0m\u001b[0;34m\u001b[0m\u001b[0m\n\u001b[0m",
      "\u001b[0;32m~/miniforge3/envs/tensorflow/lib/python3.9/site-packages/keras/utils/traceback_utils.py\u001b[0m in \u001b[0;36merror_handler\u001b[0;34m(*args, **kwargs)\u001b[0m\n\u001b[1;32m     65\u001b[0m     \u001b[0;32mexcept\u001b[0m \u001b[0mException\u001b[0m \u001b[0;32mas\u001b[0m \u001b[0me\u001b[0m\u001b[0;34m:\u001b[0m  \u001b[0;31m# pylint: disable=broad-except\u001b[0m\u001b[0;34m\u001b[0m\u001b[0;34m\u001b[0m\u001b[0m\n\u001b[1;32m     66\u001b[0m       \u001b[0mfiltered_tb\u001b[0m \u001b[0;34m=\u001b[0m \u001b[0m_process_traceback_frames\u001b[0m\u001b[0;34m(\u001b[0m\u001b[0me\u001b[0m\u001b[0;34m.\u001b[0m\u001b[0m__traceback__\u001b[0m\u001b[0;34m)\u001b[0m\u001b[0;34m\u001b[0m\u001b[0;34m\u001b[0m\u001b[0m\n\u001b[0;32m---> 67\u001b[0;31m       \u001b[0;32mraise\u001b[0m \u001b[0me\u001b[0m\u001b[0;34m.\u001b[0m\u001b[0mwith_traceback\u001b[0m\u001b[0;34m(\u001b[0m\u001b[0mfiltered_tb\u001b[0m\u001b[0;34m)\u001b[0m \u001b[0;32mfrom\u001b[0m \u001b[0;32mNone\u001b[0m\u001b[0;34m\u001b[0m\u001b[0;34m\u001b[0m\u001b[0m\n\u001b[0m\u001b[1;32m     68\u001b[0m     \u001b[0;32mfinally\u001b[0m\u001b[0;34m:\u001b[0m\u001b[0;34m\u001b[0m\u001b[0;34m\u001b[0m\u001b[0m\n\u001b[1;32m     69\u001b[0m       \u001b[0;32mdel\u001b[0m \u001b[0mfiltered_tb\u001b[0m\u001b[0;34m\u001b[0m\u001b[0;34m\u001b[0m\u001b[0m\n",
      "\u001b[0;32m~/miniforge3/envs/tensorflow/lib/python3.9/site-packages/tensorflow/python/framework/func_graph.py\u001b[0m in \u001b[0;36mautograph_handler\u001b[0;34m(*args, **kwargs)\u001b[0m\n\u001b[1;32m   1127\u001b[0m           \u001b[0;32mexcept\u001b[0m \u001b[0mException\u001b[0m \u001b[0;32mas\u001b[0m \u001b[0me\u001b[0m\u001b[0;34m:\u001b[0m  \u001b[0;31m# pylint:disable=broad-except\u001b[0m\u001b[0;34m\u001b[0m\u001b[0;34m\u001b[0m\u001b[0m\n\u001b[1;32m   1128\u001b[0m             \u001b[0;32mif\u001b[0m \u001b[0mhasattr\u001b[0m\u001b[0;34m(\u001b[0m\u001b[0me\u001b[0m\u001b[0;34m,\u001b[0m \u001b[0;34m\"ag_error_metadata\"\u001b[0m\u001b[0;34m)\u001b[0m\u001b[0;34m:\u001b[0m\u001b[0;34m\u001b[0m\u001b[0;34m\u001b[0m\u001b[0m\n\u001b[0;32m-> 1129\u001b[0;31m               \u001b[0;32mraise\u001b[0m \u001b[0me\u001b[0m\u001b[0;34m.\u001b[0m\u001b[0mag_error_metadata\u001b[0m\u001b[0;34m.\u001b[0m\u001b[0mto_exception\u001b[0m\u001b[0;34m(\u001b[0m\u001b[0me\u001b[0m\u001b[0;34m)\u001b[0m\u001b[0;34m\u001b[0m\u001b[0;34m\u001b[0m\u001b[0m\n\u001b[0m\u001b[1;32m   1130\u001b[0m             \u001b[0;32melse\u001b[0m\u001b[0;34m:\u001b[0m\u001b[0;34m\u001b[0m\u001b[0;34m\u001b[0m\u001b[0m\n\u001b[1;32m   1131\u001b[0m               \u001b[0;32mraise\u001b[0m\u001b[0;34m\u001b[0m\u001b[0;34m\u001b[0m\u001b[0m\n",
      "\u001b[0;31mValueError\u001b[0m: in user code:\n\n    File \"/Users/eduard.hogea/miniforge3/envs/tensorflow/lib/python3.9/site-packages/keras/engine/training.py\", line 878, in train_function  *\n        return step_function(self, iterator)\n    File \"/Users/eduard.hogea/miniforge3/envs/tensorflow/lib/python3.9/site-packages/keras/engine/training.py\", line 867, in step_function  **\n        outputs = model.distribute_strategy.run(run_step, args=(data,))\n    File \"/Users/eduard.hogea/miniforge3/envs/tensorflow/lib/python3.9/site-packages/keras/engine/training.py\", line 860, in run_step  **\n        outputs = model.train_step(data)\n    File \"/Users/eduard.hogea/miniforge3/envs/tensorflow/lib/python3.9/site-packages/keras/engine/training.py\", line 809, in train_step\n        loss = self.compiled_loss(\n    File \"/Users/eduard.hogea/miniforge3/envs/tensorflow/lib/python3.9/site-packages/keras/engine/compile_utils.py\", line 201, in __call__\n        loss_value = loss_obj(y_t, y_p, sample_weight=sw)\n    File \"/Users/eduard.hogea/miniforge3/envs/tensorflow/lib/python3.9/site-packages/keras/losses.py\", line 141, in __call__\n        losses = call_fn(y_true, y_pred)\n    File \"/Users/eduard.hogea/miniforge3/envs/tensorflow/lib/python3.9/site-packages/keras/losses.py\", line 245, in call  **\n        return ag_fn(y_true, y_pred, **self._fn_kwargs)\n    File \"/Users/eduard.hogea/miniforge3/envs/tensorflow/lib/python3.9/site-packages/keras/losses.py\", line 1664, in categorical_crossentropy\n        return backend.categorical_crossentropy(\n    File \"/Users/eduard.hogea/miniforge3/envs/tensorflow/lib/python3.9/site-packages/keras/backend.py\", line 4994, in categorical_crossentropy\n        target.shape.assert_is_compatible_with(output.shape)\n\n    ValueError: Shapes (None, 1) and (None, 10) are incompatible\n"
     ]
    }
   ],
   "source": [
    "model.fit(train_inputs,train_targets,validation_data=(test_inputs,test_targets),verbose=1,epochs=19)"
   ]
  },
  {
   "cell_type": "code",
   "execution_count": null,
   "id": "a58c702a-a568-43f9-8913-1d0057cd9177",
   "metadata": {},
   "outputs": [],
   "source": []
  }
 ],
 "metadata": {
  "kernelspec": {
   "display_name": "Python 3 (ipykernel)",
   "language": "python",
   "name": "python3"
  },
  "language_info": {
   "codemirror_mode": {
    "name": "ipython",
    "version": 3
   },
   "file_extension": ".py",
   "mimetype": "text/x-python",
   "name": "python",
   "nbconvert_exporter": "python",
   "pygments_lexer": "ipython3",
   "version": "3.9.7"
  }
 },
 "nbformat": 4,
 "nbformat_minor": 5
}
