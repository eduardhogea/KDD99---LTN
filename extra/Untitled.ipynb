{
 "cells": [
  {
   "cell_type": "code",
   "execution_count": 1,
   "id": "36bf2a6f-7cd5-403e-8114-ba2e934c8d1d",
   "metadata": {},
   "outputs": [],
   "source": [
    "import pandas as pd\n",
    "import io\n",
    "import requests\n",
    "import numpy as np\n",
    "import os\n",
    "import tensorflow as tf\n",
    "from sklearn.model_selection import train_test_split\n",
    "from sklearn import metrics\n",
    "from tensorflow.keras.models import Sequential\n",
    "from tensorflow.keras.layers import Dense, Activation\n",
    "from tensorflow.keras.callbacks import EarlyStopping\n",
    "from tensorflow.keras.utils import get_file\n",
    "import matplotlib.pyplot as plt\n",
    "from matplotlib.pyplot import *\n",
    "from scipy.stats import zscore\n",
    "import logictensornetworks as ltn"
   ]
  },
  {
   "cell_type": "code",
   "execution_count": 2,
   "id": "38a3483f-8082-4a14-98cc-533d6b7496fe",
   "metadata": {},
   "outputs": [
    {
     "name": "stdout",
     "output_type": "stream",
     "text": [
      "Metal device set to: Apple M1\n",
      "ltn.Constant(tensor=[1.], trainable=False, free_vars=[])\n",
      "<tf.Variable 'Variable:0' shape=(3, 3) dtype=float32, numpy=\n",
      "array([[1., 2., 3.],\n",
      "       [4., 5., 6.],\n",
      "       [7., 8., 9.]], dtype=float32)>\n"
     ]
    },
    {
     "name": "stderr",
     "output_type": "stream",
     "text": [
      "2022-04-02 18:01:48.168403: I tensorflow/core/common_runtime/pluggable_device/pluggable_device_factory.cc:305] Could not identify NUMA node of platform GPU ID 0, defaulting to 0. Your kernel may not have been built with NUMA support.\n",
      "2022-04-02 18:01:48.168732: I tensorflow/core/common_runtime/pluggable_device/pluggable_device_factory.cc:271] Created TensorFlow device (/job:localhost/replica:0/task:0/device:GPU:0 with 0 MB memory) -> physical PluggableDevice (device: 0, name: METAL, pci bus id: <undefined>)\n"
     ]
    }
   ],
   "source": [
    "a = ltn.Constant(1, trainable = False) #tensor de ordinul 1\n",
    "x = ltn.Constant([2,3], trainable = False) #tensor de ordinul 2\n",
    "y = ltn.Constant([[1,2,3],[4,5,6]], trainable = False) #tensor de ordinul 3\n",
    "z = ltn.Constant([[1,2,3],[4,5,6],[7,8,9]], trainable = True) # tensor de ordinul 4\n",
    "print(a)\n",
    "print(z.tensor)"
   ]
  },
  {
   "cell_type": "code",
   "execution_count": 63,
   "id": "a4055660-fcee-4ad0-8517-a7408463ff43",
   "metadata": {},
   "outputs": [],
   "source": [
    "class Model(tf.keras.Model):\n",
    "    def __init__(self):\n",
    "        super(Model, self).__init__()\n",
    "        self.dense_layer1 = tf.keras.layers.Dense(20, activation=tf.nn.relu)\n",
    "        self.dense_layer2 = tf.keras.layers.Dense(4, activation=tf.nn.relu)\n",
    "        self.dense_layer3 = tf.keras.layers.Dense(1, activation = tf.nn.sigmoid)\n",
    "    def call(self, x, y):\n",
    "        x=self.dense_layer1(x)\n",
    "        y=self.dense_layer2(x)\n",
    "        return self.dense_layer3(y)\n",
    "\n",
    "model = Model()\n",
    "Pred1 = ltn.Predicate(model)\n",
    "\n",
    "const = ltn.Constant([1,2,3], trainable = False)\n",
    "x = tf.constant([2,3])\n",
    "Pred2 = ltn.Predicate.Lambda(lambda var: tf.exp(-tf.norm(var-1,axis=1)))"
   ]
  },
  {
   "cell_type": "code",
   "execution_count": 64,
   "id": "12c6493b-6e5f-4de4-b7d9-6d0a0cbddac6",
   "metadata": {},
   "outputs": [
    {
     "name": "stdout",
     "output_type": "stream",
     "text": [
      "ltn.Formula(tensor=0.10687792301177979, free_vars=[])\n"
     ]
    }
   ],
   "source": [
    "print(Pred2(const))"
   ]
  },
  {
   "cell_type": "code",
   "execution_count": 77,
   "id": "e5dd2bf1-2cb5-4950-b4eb-9bce0bded218",
   "metadata": {},
   "outputs": [
    {
     "name": "stdout",
     "output_type": "stream",
     "text": [
      "ltn.Variable(label=v, tensor=[[-0.43627578 -0.2976437  -2.4928448   1.1746471   2.2041492 ]\n",
      " [ 0.4056408   0.9638937  -1.5063173  -0.2246969  -0.20277514]\n",
      " [-1.3031697  -0.6009085   2.176373    0.33341274 -0.38255623]\n",
      " [-0.97398514  0.47645572  0.5281652   1.1575196   0.24908398]\n",
      " [ 0.38763118 -0.8616349   0.18741466 -0.14276373 -0.29453826]], free_vars=['v'])\n"
     ]
    }
   ],
   "source": [
    "v = ltn.Variable('v',np.random.normal(0.,1.,(5,5)))\n",
    "va = ltn.Variable('va',np.random.normal(0.,2.,(3,5)))\n",
    "print(v)"
   ]
  },
  {
   "cell_type": "code",
   "execution_count": 78,
   "id": "833d279b-2fcb-4a41-b254-add0d8903588",
   "metadata": {},
   "outputs": [],
   "source": [
    "Not = ltn.Wrapper_Connective(ltn.fuzzy_ops.Not_Std())\n",
    "And = ltn.Wrapper_Connective(ltn.fuzzy_ops.And_Prod())\n",
    "Or = ltn.Wrapper_Connective(ltn.fuzzy_ops.Or_ProbSum())\n",
    "Implies = ltn.Wrapper_Connective(ltn.fuzzy_ops.Implies_Reichenbach())\n",
    "Equiv = ltn.Wrapper_Connective(ltn.fuzzy_ops.Equiv(ltn.fuzzy_ops.And_Prod(),ltn.fuzzy_ops.Implies_Reichenbach()))\n",
    "Forall = ltn.Wrapper_Quantifier(ltn.fuzzy_ops.Aggreg_pMeanError(p=4),semantics=\"forall\")\n",
    "Exists = ltn.Wrapper_Quantifier(ltn.fuzzy_ops.Aggreg_pMean(p=6),semantics=\"exists\")"
   ]
  },
  {
   "cell_type": "code",
   "execution_count": 91,
   "id": "297d60a4-5067-4acc-8ddb-d69fa5ec6e31",
   "metadata": {},
   "outputs": [
    {
     "name": "stdout",
     "output_type": "stream",
     "text": [
      "ltn.Formula(tensor=0.3678794205188751, free_vars=[])\n",
      "ltn.Formula(tensor=0.6321206092834473, free_vars=[])\n",
      "ltn.Formula(tensor=0.1353817582130432, free_vars=[])\n",
      "ltn.Formula(tensor=0.6003770232200623, free_vars=[])\n",
      "ltn.Formula(tensor=0.7674024105072021, free_vars=[])\n"
     ]
    }
   ],
   "source": [
    "x = ltn.Constant([2.,3., 5.1, 4.3], trainable = False) #tensor de ordinul 2\n",
    "y = ltn.Constant([2.,3., 4.1, 4.3], trainable = False) #tensor de ordinul 2\n",
    "Eq = ltn.Predicate.Lambda(lambda args: tf.exp(-tf.norm(args[0]-args[1],axis=1))) # predicate measuring similarity\n",
    "print(Eq([x,y]))\n",
    "print(Not(Eq([x,y])))\n",
    "print(And(Eq([x,y]), Eq([x,y])))\n",
    "print(Or(Eq([x,y]), Eq([x,y])))\n",
    "print(Implies(Eq([x,y]), Eq([x,y])))"
   ]
  },
  {
   "cell_type": "code",
   "execution_count": null,
   "id": "8227437e-0352-455c-b3e1-eb8d3c240c0a",
   "metadata": {},
   "outputs": [],
   "source": []
  }
 ],
 "metadata": {
  "kernelspec": {
   "display_name": "Python 3 (ipykernel)",
   "language": "python",
   "name": "python3"
  },
  "language_info": {
   "codemirror_mode": {
    "name": "ipython",
    "version": 3
   },
   "file_extension": ".py",
   "mimetype": "text/x-python",
   "name": "python",
   "nbconvert_exporter": "python",
   "pygments_lexer": "ipython3",
   "version": "3.9.7"
  }
 },
 "nbformat": 4,
 "nbformat_minor": 5
}
