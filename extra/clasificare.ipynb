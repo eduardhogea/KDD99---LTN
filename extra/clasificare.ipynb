{
 "cells": [
  {
   "cell_type": "code",
   "execution_count": 14,
   "id": "ff0ab863-09a4-4619-b1c1-90f7a08b13b7",
   "metadata": {},
   "outputs": [],
   "source": [
    "import pandas as pd\n",
    "import numpy as np\n",
    "import matplotlib\n",
    "import matplotlib.pyplot as plt\n",
    "import seaborn as sns\n",
    "import logictensornetworks as ltn\n",
    "import tensorflow as tf\n",
    "import time\n",
    "import matplotlib.pyplot as plt\n",
    "from matplotlib.pyplot import *"
   ]
  },
  {
   "cell_type": "code",
   "execution_count": 40,
   "id": "47d9e676-075a-4d43-b369-19d354b7a837",
   "metadata": {},
   "outputs": [],
   "source": [
    "df = pd.read_csv(\"/Users/eduard.hogea/Documents/Facultate/Internship/explorare/KNN99---LTN/datesets/CICIDS2017/Wednesday-workingHours.pcap_ISCX.csv\", skipinitialspace = True)"
   ]
  },
  {
   "cell_type": "code",
   "execution_count": 30,
   "id": "0e2278d9-f8fc-4535-b13e-bded1e32c750",
   "metadata": {},
   "outputs": [
    {
     "data": {
      "text/html": [
       "<div>\n",
       "<style scoped>\n",
       "    .dataframe tbody tr th:only-of-type {\n",
       "        vertical-align: middle;\n",
       "    }\n",
       "\n",
       "    .dataframe tbody tr th {\n",
       "        vertical-align: top;\n",
       "    }\n",
       "\n",
       "    .dataframe thead th {\n",
       "        text-align: right;\n",
       "    }\n",
       "</style>\n",
       "<table border=\"1\" class=\"dataframe\">\n",
       "  <thead>\n",
       "    <tr style=\"text-align: right;\">\n",
       "      <th></th>\n",
       "      <th>Destination Port</th>\n",
       "      <th>Flow Duration</th>\n",
       "      <th>Total Fwd Packets</th>\n",
       "      <th>Total Backward Packets</th>\n",
       "      <th>Total Length of Fwd Packets</th>\n",
       "      <th>Total Length of Bwd Packets</th>\n",
       "      <th>Fwd Packet Length Max</th>\n",
       "      <th>Fwd Packet Length Min</th>\n",
       "      <th>Fwd Packet Length Mean</th>\n",
       "      <th>Fwd Packet Length Std</th>\n",
       "      <th>...</th>\n",
       "      <th>act_data_pkt_fwd</th>\n",
       "      <th>min_seg_size_forward</th>\n",
       "      <th>Active Mean</th>\n",
       "      <th>Active Std</th>\n",
       "      <th>Active Max</th>\n",
       "      <th>Active Min</th>\n",
       "      <th>Idle Mean</th>\n",
       "      <th>Idle Std</th>\n",
       "      <th>Idle Max</th>\n",
       "      <th>Idle Min</th>\n",
       "    </tr>\n",
       "  </thead>\n",
       "  <tbody>\n",
       "    <tr>\n",
       "      <th>count</th>\n",
       "      <td>286467.000000</td>\n",
       "      <td>2.864670e+05</td>\n",
       "      <td>286467.000000</td>\n",
       "      <td>286467.000000</td>\n",
       "      <td>286467.000000</td>\n",
       "      <td>2.864670e+05</td>\n",
       "      <td>286467.000000</td>\n",
       "      <td>286467.000000</td>\n",
       "      <td>286467.000000</td>\n",
       "      <td>286467.000000</td>\n",
       "      <td>...</td>\n",
       "      <td>286467.000000</td>\n",
       "      <td>286467.000000</td>\n",
       "      <td>2.864670e+05</td>\n",
       "      <td>2.864670e+05</td>\n",
       "      <td>2.864670e+05</td>\n",
       "      <td>2.864670e+05</td>\n",
       "      <td>2.864670e+05</td>\n",
       "      <td>2.864670e+05</td>\n",
       "      <td>2.864670e+05</td>\n",
       "      <td>2.864670e+05</td>\n",
       "    </tr>\n",
       "    <tr>\n",
       "      <th>mean</th>\n",
       "      <td>8044.876324</td>\n",
       "      <td>5.379331e+06</td>\n",
       "      <td>3.473283</td>\n",
       "      <td>3.520500</td>\n",
       "      <td>233.407667</td>\n",
       "      <td>2.707247e+03</td>\n",
       "      <td>81.033369</td>\n",
       "      <td>10.352013</td>\n",
       "      <td>24.138688</td>\n",
       "      <td>24.590994</td>\n",
       "      <td>...</td>\n",
       "      <td>1.728618</td>\n",
       "      <td>29.075328</td>\n",
       "      <td>3.409213e+04</td>\n",
       "      <td>2.294987e+04</td>\n",
       "      <td>7.785722e+04</td>\n",
       "      <td>2.171380e+04</td>\n",
       "      <td>1.602973e+06</td>\n",
       "      <td>6.120390e+04</td>\n",
       "      <td>1.647188e+06</td>\n",
       "      <td>1.536286e+06</td>\n",
       "    </tr>\n",
       "    <tr>\n",
       "      <th>std</th>\n",
       "      <td>15378.583442</td>\n",
       "      <td>2.192364e+07</td>\n",
       "      <td>19.515131</td>\n",
       "      <td>28.288916</td>\n",
       "      <td>1865.523600</td>\n",
       "      <td>5.097783e+04</td>\n",
       "      <td>327.768035</td>\n",
       "      <td>24.237795</td>\n",
       "      <td>78.381542</td>\n",
       "      <td>117.218043</td>\n",
       "      <td>...</td>\n",
       "      <td>14.897361</td>\n",
       "      <td>8.014607</td>\n",
       "      <td>4.659319e+05</td>\n",
       "      <td>2.623049e+05</td>\n",
       "      <td>7.342606e+05</td>\n",
       "      <td>4.223145e+05</td>\n",
       "      <td>8.682334e+06</td>\n",
       "      <td>1.217016e+06</td>\n",
       "      <td>8.882728e+06</td>\n",
       "      <td>8.561545e+06</td>\n",
       "    </tr>\n",
       "    <tr>\n",
       "      <th>min</th>\n",
       "      <td>0.000000</td>\n",
       "      <td>-1.300000e+01</td>\n",
       "      <td>1.000000</td>\n",
       "      <td>0.000000</td>\n",
       "      <td>0.000000</td>\n",
       "      <td>0.000000e+00</td>\n",
       "      <td>0.000000</td>\n",
       "      <td>0.000000</td>\n",
       "      <td>0.000000</td>\n",
       "      <td>0.000000</td>\n",
       "      <td>...</td>\n",
       "      <td>0.000000</td>\n",
       "      <td>0.000000</td>\n",
       "      <td>0.000000e+00</td>\n",
       "      <td>0.000000e+00</td>\n",
       "      <td>0.000000e+00</td>\n",
       "      <td>0.000000e+00</td>\n",
       "      <td>0.000000e+00</td>\n",
       "      <td>0.000000e+00</td>\n",
       "      <td>0.000000e+00</td>\n",
       "      <td>0.000000e+00</td>\n",
       "    </tr>\n",
       "    <tr>\n",
       "      <th>25%</th>\n",
       "      <td>80.000000</td>\n",
       "      <td>4.400000e+01</td>\n",
       "      <td>1.000000</td>\n",
       "      <td>1.000000</td>\n",
       "      <td>0.000000</td>\n",
       "      <td>6.000000e+00</td>\n",
       "      <td>0.000000</td>\n",
       "      <td>0.000000</td>\n",
       "      <td>0.000000</td>\n",
       "      <td>0.000000</td>\n",
       "      <td>...</td>\n",
       "      <td>0.000000</td>\n",
       "      <td>20.000000</td>\n",
       "      <td>0.000000e+00</td>\n",
       "      <td>0.000000e+00</td>\n",
       "      <td>0.000000e+00</td>\n",
       "      <td>0.000000e+00</td>\n",
       "      <td>0.000000e+00</td>\n",
       "      <td>0.000000e+00</td>\n",
       "      <td>0.000000e+00</td>\n",
       "      <td>0.000000e+00</td>\n",
       "    </tr>\n",
       "    <tr>\n",
       "      <th>50%</th>\n",
       "      <td>1110.000000</td>\n",
       "      <td>6.500000e+01</td>\n",
       "      <td>1.000000</td>\n",
       "      <td>1.000000</td>\n",
       "      <td>2.000000</td>\n",
       "      <td>6.000000e+00</td>\n",
       "      <td>2.000000</td>\n",
       "      <td>2.000000</td>\n",
       "      <td>2.000000</td>\n",
       "      <td>0.000000</td>\n",
       "      <td>...</td>\n",
       "      <td>0.000000</td>\n",
       "      <td>24.000000</td>\n",
       "      <td>0.000000e+00</td>\n",
       "      <td>0.000000e+00</td>\n",
       "      <td>0.000000e+00</td>\n",
       "      <td>0.000000e+00</td>\n",
       "      <td>0.000000e+00</td>\n",
       "      <td>0.000000e+00</td>\n",
       "      <td>0.000000e+00</td>\n",
       "      <td>0.000000e+00</td>\n",
       "    </tr>\n",
       "    <tr>\n",
       "      <th>75%</th>\n",
       "      <td>6881.000000</td>\n",
       "      <td>2.380600e+04</td>\n",
       "      <td>2.000000</td>\n",
       "      <td>2.000000</td>\n",
       "      <td>62.000000</td>\n",
       "      <td>1.150000e+02</td>\n",
       "      <td>37.000000</td>\n",
       "      <td>6.000000</td>\n",
       "      <td>34.000000</td>\n",
       "      <td>0.000000</td>\n",
       "      <td>...</td>\n",
       "      <td>1.000000</td>\n",
       "      <td>40.000000</td>\n",
       "      <td>0.000000e+00</td>\n",
       "      <td>0.000000e+00</td>\n",
       "      <td>0.000000e+00</td>\n",
       "      <td>0.000000e+00</td>\n",
       "      <td>0.000000e+00</td>\n",
       "      <td>0.000000e+00</td>\n",
       "      <td>0.000000e+00</td>\n",
       "      <td>0.000000e+00</td>\n",
       "    </tr>\n",
       "    <tr>\n",
       "      <th>max</th>\n",
       "      <td>65389.000000</td>\n",
       "      <td>1.199999e+08</td>\n",
       "      <td>3119.000000</td>\n",
       "      <td>3635.000000</td>\n",
       "      <td>232349.000000</td>\n",
       "      <td>7.150819e+06</td>\n",
       "      <td>13929.000000</td>\n",
       "      <td>1472.000000</td>\n",
       "      <td>3412.938776</td>\n",
       "      <td>3541.466551</td>\n",
       "      <td>...</td>\n",
       "      <td>2056.000000</td>\n",
       "      <td>60.000000</td>\n",
       "      <td>1.100000e+08</td>\n",
       "      <td>7.050000e+07</td>\n",
       "      <td>1.100000e+08</td>\n",
       "      <td>1.100000e+08</td>\n",
       "      <td>1.200000e+08</td>\n",
       "      <td>7.050000e+07</td>\n",
       "      <td>1.200000e+08</td>\n",
       "      <td>1.200000e+08</td>\n",
       "    </tr>\n",
       "  </tbody>\n",
       "</table>\n",
       "<p>8 rows × 78 columns</p>\n",
       "</div>"
      ],
      "text/plain": [
       "       Destination Port  Flow Duration  Total Fwd Packets  \\\n",
       "count     286467.000000   2.864670e+05      286467.000000   \n",
       "mean        8044.876324   5.379331e+06           3.473283   \n",
       "std        15378.583442   2.192364e+07          19.515131   \n",
       "min            0.000000  -1.300000e+01           1.000000   \n",
       "25%           80.000000   4.400000e+01           1.000000   \n",
       "50%         1110.000000   6.500000e+01           1.000000   \n",
       "75%         6881.000000   2.380600e+04           2.000000   \n",
       "max        65389.000000   1.199999e+08        3119.000000   \n",
       "\n",
       "       Total Backward Packets  Total Length of Fwd Packets  \\\n",
       "count           286467.000000                286467.000000   \n",
       "mean                 3.520500                   233.407667   \n",
       "std                 28.288916                  1865.523600   \n",
       "min                  0.000000                     0.000000   \n",
       "25%                  1.000000                     0.000000   \n",
       "50%                  1.000000                     2.000000   \n",
       "75%                  2.000000                    62.000000   \n",
       "max               3635.000000                232349.000000   \n",
       "\n",
       "       Total Length of Bwd Packets  Fwd Packet Length Max  \\\n",
       "count                 2.864670e+05          286467.000000   \n",
       "mean                  2.707247e+03              81.033369   \n",
       "std                   5.097783e+04             327.768035   \n",
       "min                   0.000000e+00               0.000000   \n",
       "25%                   6.000000e+00               0.000000   \n",
       "50%                   6.000000e+00               2.000000   \n",
       "75%                   1.150000e+02              37.000000   \n",
       "max                   7.150819e+06           13929.000000   \n",
       "\n",
       "       Fwd Packet Length Min  Fwd Packet Length Mean  Fwd Packet Length Std  \\\n",
       "count          286467.000000           286467.000000          286467.000000   \n",
       "mean               10.352013               24.138688              24.590994   \n",
       "std                24.237795               78.381542             117.218043   \n",
       "min                 0.000000                0.000000               0.000000   \n",
       "25%                 0.000000                0.000000               0.000000   \n",
       "50%                 2.000000                2.000000               0.000000   \n",
       "75%                 6.000000               34.000000               0.000000   \n",
       "max              1472.000000             3412.938776            3541.466551   \n",
       "\n",
       "       ...  act_data_pkt_fwd  min_seg_size_forward   Active Mean  \\\n",
       "count  ...     286467.000000         286467.000000  2.864670e+05   \n",
       "mean   ...          1.728618             29.075328  3.409213e+04   \n",
       "std    ...         14.897361              8.014607  4.659319e+05   \n",
       "min    ...          0.000000              0.000000  0.000000e+00   \n",
       "25%    ...          0.000000             20.000000  0.000000e+00   \n",
       "50%    ...          0.000000             24.000000  0.000000e+00   \n",
       "75%    ...          1.000000             40.000000  0.000000e+00   \n",
       "max    ...       2056.000000             60.000000  1.100000e+08   \n",
       "\n",
       "         Active Std    Active Max    Active Min     Idle Mean      Idle Std  \\\n",
       "count  2.864670e+05  2.864670e+05  2.864670e+05  2.864670e+05  2.864670e+05   \n",
       "mean   2.294987e+04  7.785722e+04  2.171380e+04  1.602973e+06  6.120390e+04   \n",
       "std    2.623049e+05  7.342606e+05  4.223145e+05  8.682334e+06  1.217016e+06   \n",
       "min    0.000000e+00  0.000000e+00  0.000000e+00  0.000000e+00  0.000000e+00   \n",
       "25%    0.000000e+00  0.000000e+00  0.000000e+00  0.000000e+00  0.000000e+00   \n",
       "50%    0.000000e+00  0.000000e+00  0.000000e+00  0.000000e+00  0.000000e+00   \n",
       "75%    0.000000e+00  0.000000e+00  0.000000e+00  0.000000e+00  0.000000e+00   \n",
       "max    7.050000e+07  1.100000e+08  1.100000e+08  1.200000e+08  7.050000e+07   \n",
       "\n",
       "           Idle Max      Idle Min  \n",
       "count  2.864670e+05  2.864670e+05  \n",
       "mean   1.647188e+06  1.536286e+06  \n",
       "std    8.882728e+06  8.561545e+06  \n",
       "min    0.000000e+00  0.000000e+00  \n",
       "25%    0.000000e+00  0.000000e+00  \n",
       "50%    0.000000e+00  0.000000e+00  \n",
       "75%    0.000000e+00  0.000000e+00  \n",
       "max    1.200000e+08  1.200000e+08  \n",
       "\n",
       "[8 rows x 78 columns]"
      ]
     },
     "execution_count": 30,
     "metadata": {},
     "output_type": "execute_result"
    }
   ],
   "source": [
    "df.describe()"
   ]
  },
  {
   "cell_type": "code",
   "execution_count": 41,
   "id": "9e71a52f-75e0-4416-a48f-c3c3eb6224e3",
   "metadata": {},
   "outputs": [
    {
     "data": {
      "image/png": "[encoded data removed]",
      "text/plain": [
       "<Figure size 864x648 with 1 Axes>"
      ]
     },
     "metadata": {
      "needs_background": "light"
     },
     "output_type": "display_data"
    }
   ],
   "source": [
    "plt.figure(figsize=(12,9))\n",
    "plt.rcParams.update({'font.size': 16})\n",
    "class_distribution = df['Label'].value_counts()\n",
    "class_distribution.plot(kind='barh')\n",
    "plt.xlabel('Data points per class')\n",
    "plt.ylabel('Class')\n",
    "plt.title('Distribution of yi in train data')\n",
    "plt.grid()\n",
    "#plt.xlim([0, 100])\n",
    "plt.show()"
   ]
  },
  {
   "cell_type": "code",
   "execution_count": 18,
   "id": "1fc22c00-5122-45ae-be88-1e76ddc61265",
   "metadata": {},
   "outputs": [
    {
     "data": {
      "text/plain": [
       "(225745, 79)"
      ]
     },
     "execution_count": 18,
     "metadata": {},
     "output_type": "execute_result"
    }
   ],
   "source": [
    "df.shape"
   ]
  },
  {
   "cell_type": "code",
   "execution_count": 19,
   "id": "c2176854-1912-43cf-b08b-3786857c762f",
   "metadata": {},
   "outputs": [
    {
     "name": "stdout",
     "output_type": "stream",
     "text": [
      "Null values in dataset are 0\n"
     ]
    },
    {
     "data": {
      "text/plain": [
       "(223082, 79)"
      ]
     },
     "execution_count": 19,
     "metadata": {},
     "output_type": "execute_result"
    }
   ],
   "source": [
    "df.drop_duplicates(keep= 'first', inplace=True) #eliminarea dublurilor liniilor\n",
    "df.replace([np.inf, -np.inf], np.nan, inplace=True)\n",
    "df = df.dropna()\n",
    "print('Null values in dataset are',len(df[df.isnull().any(1)]))\n",
    "df.shape"
   ]
  },
  {
   "cell_type": "code",
   "execution_count": 20,
   "id": "473602b1-e68a-494c-a4be-c41d115f6f51",
   "metadata": {},
   "outputs": [
    {
     "data": {
      "image/png": "[encoded data removed]",
      "text/plain": [
       "<Figure size 864x648 with 1 Axes>"
      ]
     },
     "metadata": {
      "needs_background": "light"
     },
     "output_type": "display_data"
    }
   ],
   "source": [
    "plt.figure(figsize=(12,9))\n",
    "plt.rcParams.update({'font.size': 16})\n",
    "class_distribution = df['Label'].value_counts()\n",
    "class_distribution.plot(kind='barh')\n",
    "plt.xlabel('Data points per class')\n",
    "plt.ylabel('Class')\n",
    "plt.title('Distribution of yi in train data')\n",
    "plt.grid()\n",
    "#plt.xlim([0, 100])\n",
    "plt.show()"
   ]
  },
  {
   "cell_type": "markdown",
   "id": "a1e3ea80-5e5c-4753-a2ec-301d61e31813",
   "metadata": {},
   "source": [
    "# Data normalization"
   ]
  },
  {
   "cell_type": "code",
   "execution_count": 21,
   "id": "68e10a7d-6ec5-474c-9560-708810d5fbd4",
   "metadata": {},
   "outputs": [],
   "source": [
    "from sklearn import preprocessing\n",
    "from sklearn.preprocessing import StandardScaler\n",
    "# selecting numeric attributes columns from data\n",
    "numeric_col = df.select_dtypes(include='number').columns"
   ]
  },
  {
   "cell_type": "code",
   "execution_count": 22,
   "id": "ea011292-d03f-474c-810c-d950a56c7f05",
   "metadata": {},
   "outputs": [],
   "source": [
    "# using standard scaler for normalizing\n",
    "std_scaler = StandardScaler()\n",
    "def normalization(df,col):\n",
    "    for i in col:\n",
    "        arr = df[i]\n",
    "        arr = np.array(arr)\n",
    "        df[i] = std_scaler.fit_transform(arr.reshape(len(arr),1))\n",
    "    return df"
   ]
  },
  {
   "cell_type": "code",
   "execution_count": 23,
   "id": "ae49c7eb-5e5c-4c68-bd9c-f5d8140f2619",
   "metadata": {},
   "outputs": [],
   "source": [
    "# calling the normalization() function\n",
    "df = normalization(df.copy(),numeric_col)"
   ]
  },
  {
   "cell_type": "markdown",
   "id": "7ff155d1-43ec-4ccb-90c8-92a9935a973d",
   "metadata": {},
   "source": [
    "# Data to tensor"
   ]
  },
  {
   "cell_type": "code",
   "execution_count": 11,
   "id": "ac74ab77-ca11-4b0e-8cf1-bd934e95b206",
   "metadata": {},
   "outputs": [],
   "source": [
    "# #No need for one-hot labeling\n",
    "# for types in df.dtypes.unique():\n",
    "#     print(types)\n",
    "#     print(df.select_dtypes(types).columns)"
   ]
  },
  {
   "cell_type": "code",
   "execution_count": 24,
   "id": "c56ea280-6020-492a-aab6-7f48cc582f9c",
   "metadata": {},
   "outputs": [],
   "source": [
    "column_array = []\n",
    "for c in df.columns: \n",
    "    column_array.append(c)"
   ]
  },
  {
   "cell_type": "code",
   "execution_count": 25,
   "id": "701c0338-9274-4aba-8541-2a3ccdd0aad5",
   "metadata": {},
   "outputs": [],
   "source": [
    "df.shape\n",
    "df = df.sample(frac=1)"
   ]
  },
  {
   "cell_type": "code",
   "execution_count": 26,
   "id": "716d3f7f-f777-40a9-9e32-e635b6dae749",
   "metadata": {},
   "outputs": [
    {
     "name": "stdout",
     "output_type": "stream",
     "text": [
      "Metal device set to: Apple M1\n"
     ]
    },
    {
     "name": "stderr",
     "output_type": "stream",
     "text": [
      "2022-05-05 17:07:04.761533: I tensorflow/core/common_runtime/pluggable_device/pluggable_device_factory.cc:305] Could not identify NUMA node of platform GPU ID 0, defaulting to 0. Your kernel may not have been built with NUMA support.\n",
      "2022-05-05 17:07:04.762343: I tensorflow/core/common_runtime/pluggable_device/pluggable_device_factory.cc:271] Created TensorFlow device (/job:localhost/replica:0/task:0/device:GPU:0 with 0 MB memory) -> physical PluggableDevice (device: 0, name: METAL, pci bus id: <undefined>)\n"
     ]
    }
   ],
   "source": [
    "features = df[column_array]\n",
    "features.drop('Label', inplace = True, axis = 1)\n",
    "label_label=df['Label']\n",
    "#batch_size= 100\n",
    "batch_size = 5000\n",
    "ds_train = tf.data.Dataset.from_tensor_slices((features[:180000],label_label[:180000])).batch(batch_size)\n",
    "ds_test = tf.data.Dataset.from_tensor_slices((features[180000:],label_label[180000:])).batch(batch_size)"
   ]
  },
  {
   "cell_type": "markdown",
   "id": "a36e0e92-0fcf-4b07-9218-fbbc60d461e9",
   "metadata": {},
   "source": [
    "# Creare Model\n",
    "\n",
    "### Predicate\n",
    "\n",
    "| index | class | \n",
    "| --- | --- |\n",
    "| 0 | Heartbleed |\n",
    "| 1 | DoS Slowhttptest |\n",
    "| 2 | DoS slowloris |\n",
    "| 3 | DoS GoldenEye |\n",
    "| 4 | DoS Hulk |\n",
    "| 5 | BENIGN(normal traffic) |"
   ]
  },
  {
   "cell_type": "code",
   "execution_count": 15,
   "id": "d60febef-ab88-46a4-8398-00db853d8f24",
   "metadata": {},
   "outputs": [],
   "source": [
    "class MLP(tf.keras.Model):\n",
    "    \"\"\"Model that returns logits.\"\"\"\n",
    "    def __init__(self, n_classes, hidden_layer_sizes=(36,36,36,36,12)):\n",
    "        super(MLP, self).__init__()\n",
    "        self.denses = [tf.keras.layers.Dense(s, activation=\"elu\") for s in hidden_layer_sizes]\n",
    "        self.dense_class = tf.keras.layers.Dense(n_classes)\n",
    "        \n",
    "    def call(self, inputs):\n",
    "        x = inputs\n",
    "        for dense in self.denses:\n",
    "            x = dense(x)\n",
    "        return self.dense_class(x)\n",
    "\n",
    "logits_model = MLP(6)\n",
    "p = ltn.Predicate(ltn.utils.LogitsToPredicateModel(logits_model,single_label=False))"
   ]
  },
  {
   "cell_type": "code",
   "execution_count": 16,
   "id": "c89cef83-1887-42ba-98c4-7cebbb26a805",
   "metadata": {},
   "outputs": [],
   "source": [
    "class_Heartbleed = ltn.Constant(0, trainable=False)\n",
    "class_Dos_Slowhttptest = ltn.Constant(1, trainable=False)\n",
    "class_Dos_slowloris = ltn.Constant(2, trainable=False)\n",
    "class_DoS_GoldenEye = ltn.Constant(3, trainable=False)\n",
    "class_DoS_Hulk = ltn.Constant(4, trainable=False)\n",
    "class_BENIGN = ltn.Constant(5, trainable=False)"
   ]
  },
  {
   "cell_type": "markdown",
   "id": "c63ad40f-301d-4585-8f63-c8e4a0841ea7",
   "metadata": {},
   "source": [
    "# Logica si Axioame\n",
    "```\n",
    "forall x_BENIGN: C(x_BENIGN,BENIGN): all the non-attacks should have label BENIGN\n",
    "forall x_Dos_Slowhttptest: C(x_Dos_Slowhttptest,Dos_Slowhttptest): all the Dos Slowhttptest attacks should have label Dos Slowhttptest\n",
    "forall x_Dos_slowloris: C(x_Dos_slowloris,Dos_slowloris): all the Dos slowloris attacks should have label Dos slowloris\n",
    "forall x_DoS_GoldenEye: C(x_DoS_GoldenEye,DoS_GoldenEye): all the DoS GoldenEye attacks should have label DoS GoldenEye\n",
    "forall x_DoS_Hulk: C(x_DoS_Hulk,DoS_Hulk): all the DoS Hulk attacks should have label DoS Hulk\n",
    "forall x_Heartbleed: C(x_Heartbleed,Heartbleed): all the Heartbleed attacks should have label Heartbleed\n",
    "\n",
    "\n",
    "add\n",
    "forall x: ~(C(x,normal) & C(x,Dos)): if an example x is labelled as normal, it cannot be labelled as Dos too;\n",
    "```"
   ]
  },
  {
   "cell_type": "code",
   "execution_count": 17,
   "id": "cbaa9134-6fa8-423d-8f42-eb24acdea17e",
   "metadata": {},
   "outputs": [],
   "source": [
    "Not = ltn.Wrapper_Connective(ltn.fuzzy_ops.Not_Std())\n",
    "And = ltn.Wrapper_Connective(ltn.fuzzy_ops.And_Prod())\n",
    "Or = ltn.Wrapper_Connective(ltn.fuzzy_ops.Or_ProbSum())\n",
    "Implies = ltn.Wrapper_Connective(ltn.fuzzy_ops.Implies_Reichenbach())\n",
    "Equiv = ltn.Wrapper_Connective(ltn.fuzzy_ops.Equiv(ltn.fuzzy_ops.And_Prod(),ltn.fuzzy_ops.Implies_Reichenbach()))\n",
    "Forall = ltn.Wrapper_Quantifier(ltn.fuzzy_ops.Aggreg_pMeanError(p=2),semantics=\"forall\")\n",
    "Exists = ltn.Wrapper_Quantifier(ltn.fuzzy_ops.Aggreg_pMean(p=6),semantics=\"exists\")"
   ]
  },
  {
   "cell_type": "code",
   "execution_count": 18,
   "id": "a562c5cf-0084-436a-83b2-f1b3e736ac07",
   "metadata": {},
   "outputs": [],
   "source": [
    "formula_aggregator = ltn.Wrapper_Formula_Aggregator(ltn.fuzzy_ops.Aggreg_pMeanError(p=2))\n",
    "\n",
    "@tf.function\n",
    "def axioms(features,label_label):\n",
    "    x = ltn.Variable(\"x\",features)\n",
    "    x_BENIGN = ltn.Variable(\"x_BENIGN\",features[label_label==\"BENIGN\"])\n",
    "    x_DoS_Hulk = ltn.Variable(\"x_DoS_Hulk\",features[label_label==\"DoS Hulk\"])\n",
    "    x_DoS_GoldenEye = ltn.Variable(\"x_DoS_GoldenEye\",features[label_label==\"DoS GoldenEye\"])\n",
    "    x_Dos_slowloris = ltn.Variable(\"x_Dos_slowloris\",features[label_label==\"Dos slowloris\"])\n",
    "    x_Dos_Slowhttptest = ltn.Variable(\"x_Dos_Slowhttptest\",features[label_label==\"Dos Slowhttptest\"])\n",
    "    x_Heartbleed = ltn.Variable(\"x_Heartbleed\",features[label_label==\"Heartbleed\"])\n",
    "    \n",
    "    \n",
    "    axioms = [\n",
    "        Forall(x_BENIGN, p([x_BENIGN,class_BENIGN])),\n",
    "        Forall(x_DoS_Hulk, p([x_DoS_Hulk,class_DoS_Hulk])),\n",
    "        Forall(x_DoS_GoldenEye, p([x_DoS_GoldenEye,class_DoS_GoldenEye])),\n",
    "        Forall(x_Dos_slowloris, p([x_Dos_slowloris,class_Dos_slowloris])),\n",
    "        Forall(x_Dos_Slowhttptest, p([x_Dos_Slowhttptest,class_Dos_Slowhttptest])),\n",
    "        Forall(x_Heartbleed, p([x_Heartbleed,class_Heartbleed])),\n",
    "            \n",
    "        Forall(x,Not(And(p([x,class_BENIGN]),p([x,class_DoS_Hulk])))),\n",
    "        Forall(x,Not(And(p([x,class_BENIGN]),p([x,class_DoS_GoldenEye])))),\n",
    "        Forall(x,Not(And(p([x,class_BENIGN]),p([x,class_Dos_slowloris])))),\n",
    "        Forall(x,Not(And(p([x,class_BENIGN]),p([x,class_Dos_Slowhttptest])))),\n",
    "        Forall(x,Not(And(p([x,class_BENIGN]),p([x,class_Heartbleed])))),\n",
    "        \n",
    "        Forall(x,Not(And(p([x,class_DoS_Hulk]),p([x,class_DoS_GoldenEye])))),\n",
    "        Forall(x,Not(And(p([x,class_DoS_Hulk]),p([x,class_Dos_slowloris])))),\n",
    "        Forall(x,Not(And(p([x,class_DoS_Hulk]),p([x,class_Dos_Slowhttptest])))),\n",
    "        Forall(x,Not(And(p([x,class_DoS_Hulk]),p([x,class_Heartbleed])))),\n",
    "        \n",
    "        Forall(x,Not(And(p([x,class_DoS_GoldenEye]),p([x,class_Dos_slowloris])))),\n",
    "        Forall(x,Not(And(p([x,class_DoS_GoldenEye]),p([x,class_Dos_Slowhttptest])))),\n",
    "        Forall(x,Not(And(p([x,class_DoS_GoldenEye]),p([x,class_Heartbleed])))),\n",
    "        \n",
    "        Forall(x,Not(And(p([x,class_Dos_slowloris]),p([x,class_Dos_Slowhttptest])))),\n",
    "        Forall(x,Not(And(p([x,class_Dos_slowloris]),p([x,class_Heartbleed])))),\n",
    "        \n",
    "        Forall(x,Not(And(p([x,class_Dos_Slowhttptest]),p([x,class_Heartbleed])))),\n",
    "        \n",
    "    ]\n",
    "    sat_level = formula_aggregator(axioms).tensor\n",
    "    return sat_level"
   ]
  },
  {
   "cell_type": "code",
   "execution_count": 19,
   "id": "c26894f1-f46e-4358-a38e-e17b5892fe9c",
   "metadata": {},
   "outputs": [
    {
     "name": "stderr",
     "output_type": "stream",
     "text": [
      "2022-04-21 19:25:19.246128: W tensorflow/core/platform/profile_utils/cpu_utils.cc:128] Failed to get CPU frequency: 0 Hz\n",
      "2022-04-21 19:25:19.246882: I tensorflow/core/grappler/optimizers/custom_graph_optimizer_registry.cc:112] Plugin optimizer for device_type GPU is enabled.\n"
     ]
    },
    {
     "name": "stdout",
     "output_type": "stream",
     "text": [
      "Initial sat level 0.71238\n"
     ]
    }
   ],
   "source": [
    "for features, label_label in ds_train:\n",
    "    print(\"Initial sat level %.5f\"%axioms(features, label_label))\n",
    "    break"
   ]
  },
  {
   "cell_type": "code",
   "execution_count": 20,
   "id": "e1c1c9fa-b3d0-4378-9a02-7996b6d08741",
   "metadata": {},
   "outputs": [],
   "source": [
    "metrics_dict = {\n",
    "    'train_sat_kb': tf.keras.metrics.Mean(name='train_sat_kb'),\n",
    "    'test_sat_kb': tf.keras.metrics.Mean(name='test_sat_kb'),\n",
    "    'train_accuracy': tf.keras.metrics.Mean(name=\"train_accuracy\"),\n",
    "    'test_accuracy': tf.keras.metrics.Mean(name=\"test_accuracy\"),\n",
    "    'test_sat_phi1': tf.keras.metrics.Mean(name='test_sat_phi1'),\n",
    "    'test_sat_phi2': tf.keras.metrics.Mean(name='test_sat_phi2'),\n",
    "    'test_sat_phi3': tf.keras.metrics.Mean(name='test_sat_phi3')\n",
    "    #'test_sat_phi4': tf.keras.metrics.Mean(name='test_sat_phi4')\n",
    "}\n",
    "\n",
    "\n",
    "\n",
    "@tf.function()\n",
    "def sat_phi1(features):\n",
    "    x = ltn.Variable(\"x\",features)\n",
    "    phi1 = Forall(x, Implies(p([x,class_BENIGN]),Not(p([x,class_DoS_Hulk]))),p=5)\n",
    "    #phi1 = Forall(x, Implies(p([x,class_normal]),Not(p([x,class_Dos]))),p=5)\n",
    "    return phi1.tensor\n",
    "\n",
    "@tf.function()\n",
    "def sat_phi2(features):\n",
    "    x = ltn.Variable(\"x\",features)\n",
    "    phi2 = Forall(x, Implies(p([x,class_BENIGN]),p([x,class_Heartbleed])),p=5)\n",
    "    return phi2.tensor\n",
    "\n",
    "@tf.function()\n",
    "def sat_phi3(features):\n",
    "    x = ltn.Variable(\"x\",features)\n",
    "    phi3 = Forall(x, Implies(p([x,class_BENIGN]),p([x,class_BENIGN])),p=5)\n",
    "    return phi3.tensor\n",
    "\n",
    "# @tf.function()\n",
    "# def sat_phi4(features):\n",
    "#     x = ltn.Variable(\"x\",features)\n",
    "#     phi4 = Forall(x, Implies(p([x,class_BENIGN]),p([x,class_DoS_GoldenEye])),p=5)\n",
    "#     return phi4.tensor\n",
    "\n",
    "\n",
    "\n",
    "def multilabel_hamming_loss(y_true, y_pred, threshold=0.5,from_logits=False):\n",
    "    if from_logits:\n",
    "        y_pred = tf.math.sigmoid(y_pred)\n",
    "    y_pred = y_pred > threshold\n",
    "    y_true = tf.cast(y_true, tf.int32)\n",
    "    y_pred = tf.cast(y_pred, tf.int32)\n",
    "    nonzero = tf.cast(tf.math.count_nonzero(y_true-y_pred,axis=-1),tf.float32)\n",
    "    return nonzero/y_true.get_shape()[-1]"
   ]
  },
  {
   "cell_type": "code",
   "execution_count": 21,
   "id": "6efc5d8c-eaad-4626-9f98-09c0389ccd8e",
   "metadata": {},
   "outputs": [],
   "source": [
    "optimizer = tf.keras.optimizers.Adam(learning_rate=0.001)\n",
    "@tf.function\n",
    "def train_step(features,label_label):\n",
    "    # sat and update\n",
    "    with tf.GradientTape() as tape:\n",
    "        sat = axioms(features,label_label)\n",
    "        loss = 1.-sat\n",
    "    gradients = tape.gradient(loss, p.trainable_variables)\n",
    "    optimizer.apply_gradients(zip(gradients, p.trainable_variables))\n",
    "    metrics_dict['train_sat_kb'](sat)\n",
    "    # accuracy\n",
    "    predictions = logits_model(features)\n",
    "    label_BENIGN = (label_label == \"BENIGN\")\n",
    "    label_DoS_slowloris = (label_label == \"DoS slowloris\")\n",
    "    label_DoS_Slowhttptest = (label_label == \"DoS Slowhttptest\")\n",
    "    label_DoS_Hulk = (label_label == \"DoS Hulk\")\n",
    "    label_DoS_GoldenEye = (label_label == \"DoS GoldenEye\")\n",
    "    label_Heartbleed = (label_label == \"Heartbleed\")\n",
    "    \n",
    "    \n",
    "\n",
    "    onehot = tf.stack([label_BENIGN,label_DoS_slowloris,label_DoS_Slowhttptest, label_DoS_Hulk, label_DoS_GoldenEye, label_Heartbleed],axis=-1)\n",
    "    metrics_dict['train_accuracy'](1-multilabel_hamming_loss(onehot,predictions,from_logits=True))\n",
    "    \n",
    "@tf.function\n",
    "def test_step(features,label_label):\n",
    "    # sat\n",
    "    sat_kb = axioms(features,label_label)\n",
    "    metrics_dict['test_sat_kb'](sat_kb)\n",
    "    metrics_dict['test_sat_phi1'](sat_phi1(features))\n",
    "    metrics_dict['test_sat_phi2'](sat_phi2(features))\n",
    "    metrics_dict['test_sat_phi3'](sat_phi3(features))\n",
    "    #metrics_dict['test_sat_phi4'](sat_phi4(features))\n",
    "    # accuracy\n",
    "    predictions = logits_model(features)\n",
    "    label_BENIGN = (label_label == \"BENIGN\")\n",
    "    label_DoS_slowloris = (label_label == \"DoS slowloris\")\n",
    "    label_DoS_Slowhttptest = (label_label == \"DoS Slowhttptest\")\n",
    "    label_DoS_Hulk = (label_label == \"DoS Hulk\")\n",
    "    label_DoS_GoldenEye = (label_label == \"DoS GoldenEye\")\n",
    "    label_Heartbleed = (label_label == \"Heartbleed\")\n",
    "    \n",
    "\n",
    "    onehot = tf.stack([label_BENIGN,label_DoS_slowloris,label_DoS_Slowhttptest, label_DoS_Hulk, label_DoS_GoldenEye, label_Heartbleed],axis=-1)\n",
    "    metrics_dict['test_accuracy'](1-multilabel_hamming_loss(onehot,predictions,from_logits=True))"
   ]
  },
  {
   "cell_type": "code",
   "execution_count": 22,
   "id": "81418338-1820-4ba8-8dfe-bc0516919d67",
   "metadata": {},
   "outputs": [],
   "source": [
    "from collections import defaultdict\n",
    "\n",
    "def train(\n",
    "        epochs,\n",
    "        metrics_dict, \n",
    "        ds_train, \n",
    "        ds_test, \n",
    "        train_step, \n",
    "        test_step,\n",
    "        track_metrics=1,\n",
    "        csv_path=None,\n",
    "        scheduled_parameters=defaultdict(lambda : {})\n",
    "    ):\n",
    "    \"\"\"\n",
    "    Args:\n",
    "        epochs: int, number of training epochs.\n",
    "        metrics_dict: dict, {\"metrics_label\": tf.keras.metrics instance}.\n",
    "        ds_train: iterable dataset, e.g. using tf.data.Dataset.\n",
    "        ds_test: iterable dataset, e.g. using tf.data.Dataset.\n",
    "        train_step: callable function. the arguments passed to the function\n",
    "            are the itered elements of ds_train.\n",
    "        test_step: callable function. the arguments passed to the function\n",
    "            are the itered elements of ds_test.\n",
    "        csv_path: (optional) path to create a csv file, to save the metrics.\n",
    "        scheduled_parameters: (optional) a dictionary that returns kwargs for\n",
    "            the train_step and test_step functions, for each epoch.\n",
    "            Call using scheduled_parameters[epoch].\n",
    "    \"\"\"\n",
    "    template = \"Epoch {}\"\n",
    "    for metrics_label in metrics_dict.keys():\n",
    "        template += \", %s: {:.4f}\" % metrics_label\n",
    "    if csv_path is not None:\n",
    "        csv_file = open(csv_path,\"w+\")\n",
    "        headers = \",\".join([\"Epoch\"]+list(metrics_dict.keys()))\n",
    "        csv_template = \",\".join([\"{}\" for _ in range(len(metrics_dict)+1)])\n",
    "        csv_file.write(headers+\"\\n\")\n",
    "    \n",
    "    for epoch in range(epochs):\n",
    "        for metrics in metrics_dict.values():\n",
    "            metrics.reset_states()\n",
    "\n",
    "        for batch_elements in ds_train:\n",
    "            train_step(*batch_elements,**scheduled_parameters[epoch])\n",
    "        for batch_elements in ds_test:\n",
    "            test_step(*batch_elements,**scheduled_parameters[epoch])\n",
    "\n",
    "        metrics_results = [metrics.result() for metrics in metrics_dict.values()]\n",
    "        if epoch%track_metrics == 0:\n",
    "            print(template.format(epoch,*metrics_results))\n",
    "        if csv_path is not None:\n",
    "            csv_file.write(csv_template.format(epoch,*metrics_results)+\"\\n\")\n",
    "            csv_file.flush()\n",
    "    if csv_path is not None:\n",
    "        csv_file.close()"
   ]
  },
  {
   "cell_type": "code",
   "execution_count": 23,
   "id": "80f90dcc-b1b0-4291-b3eb-9511fd39c30f",
   "metadata": {},
   "outputs": [
    {
     "name": "stderr",
     "output_type": "stream",
     "text": [
      "2022-04-21 19:25:21.751072: I tensorflow/core/grappler/optimizers/custom_graph_optimizer_registry.cc:112] Plugin optimizer for device_type GPU is enabled.\n",
      "2022-04-21 19:25:55.803191: I tensorflow/core/grappler/optimizers/custom_graph_optimizer_registry.cc:112] Plugin optimizer for device_type GPU is enabled.\n",
      "2022-04-21 19:26:03.187968: I tensorflow/core/grappler/optimizers/custom_graph_optimizer_registry.cc:112] Plugin optimizer for device_type GPU is enabled.\n"
     ]
    },
    {
     "name": "stdout",
     "output_type": "stream",
     "text": [
      "Epoch 0, train_sat_kb: 0.8899, test_sat_kb: 0.9514, train_accuracy: 0.6491, test_accuracy: 0.6663, test_sat_phi1: 0.8139, test_sat_phi2: 0.1184, test_sat_phi3: 0.8722\n",
      "Epoch 1, train_sat_kb: 0.9623, test_sat_kb: 0.9650, train_accuracy: 0.6655, test_accuracy: 0.6655, test_sat_phi1: 0.7766, test_sat_phi2: 0.0805, test_sat_phi3: 0.8819\n",
      "Epoch 2, train_sat_kb: 0.9684, test_sat_kb: 0.9713, train_accuracy: 0.6656, test_accuracy: 0.6658, test_sat_phi1: 0.8231, test_sat_phi2: 0.0785, test_sat_phi3: 0.8858\n",
      "Epoch 3, train_sat_kb: 0.9724, test_sat_kb: 0.9743, train_accuracy: 0.6661, test_accuracy: 0.6663, test_sat_phi1: 0.8369, test_sat_phi2: 0.0763, test_sat_phi3: 0.8870\n",
      "Epoch 4, train_sat_kb: 0.9742, test_sat_kb: 0.9760, train_accuracy: 0.6662, test_accuracy: 0.6664, test_sat_phi1: 0.8280, test_sat_phi2: 0.0749, test_sat_phi3: 0.8873\n"
     ]
    },
    {
     "ename": "KeyboardInterrupt",
     "evalue": "",
     "output_type": "error",
     "traceback": [
      "\u001b[0;31m---------------------------------------------------------------------------\u001b[0m",
      "\u001b[0;31mKeyboardInterrupt\u001b[0m                         Traceback (most recent call last)",
      "\u001b[0;32m/var/folders/9m/k3vyv4317cz56g6f681k4jnm0000gn/T/ipykernel_68390/452331664.py\u001b[0m in \u001b[0;36m<module>\u001b[0;34m\u001b[0m\n\u001b[1;32m      1\u001b[0m \u001b[0mEPOCHS\u001b[0m \u001b[0;34m=\u001b[0m \u001b[0;36m60\u001b[0m\u001b[0;34m\u001b[0m\u001b[0;34m\u001b[0m\u001b[0m\n\u001b[0;32m----> 2\u001b[0;31m train(\n\u001b[0m\u001b[1;32m      3\u001b[0m     \u001b[0mEPOCHS\u001b[0m\u001b[0;34m,\u001b[0m\u001b[0;34m\u001b[0m\u001b[0;34m\u001b[0m\u001b[0m\n\u001b[1;32m      4\u001b[0m     \u001b[0mmetrics_dict\u001b[0m\u001b[0;34m,\u001b[0m\u001b[0;34m\u001b[0m\u001b[0;34m\u001b[0m\u001b[0m\n\u001b[1;32m      5\u001b[0m     \u001b[0mds_train\u001b[0m\u001b[0;34m,\u001b[0m\u001b[0;34m\u001b[0m\u001b[0;34m\u001b[0m\u001b[0m\n",
      "\u001b[0;32m/var/folders/9m/k3vyv4317cz56g6f681k4jnm0000gn/T/ipykernel_68390/2748521529.py\u001b[0m in \u001b[0;36mtrain\u001b[0;34m(epochs, metrics_dict, ds_train, ds_test, train_step, test_step, track_metrics, csv_path, scheduled_parameters)\u001b[0m\n\u001b[1;32m     41\u001b[0m \u001b[0;34m\u001b[0m\u001b[0m\n\u001b[1;32m     42\u001b[0m         \u001b[0;32mfor\u001b[0m \u001b[0mbatch_elements\u001b[0m \u001b[0;32min\u001b[0m \u001b[0mds_train\u001b[0m\u001b[0;34m:\u001b[0m\u001b[0;34m\u001b[0m\u001b[0;34m\u001b[0m\u001b[0m\n\u001b[0;32m---> 43\u001b[0;31m             \u001b[0mtrain_step\u001b[0m\u001b[0;34m(\u001b[0m\u001b[0;34m*\u001b[0m\u001b[0mbatch_elements\u001b[0m\u001b[0;34m,\u001b[0m\u001b[0;34m**\u001b[0m\u001b[0mscheduled_parameters\u001b[0m\u001b[0;34m[\u001b[0m\u001b[0mepoch\u001b[0m\u001b[0;34m]\u001b[0m\u001b[0;34m)\u001b[0m\u001b[0;34m\u001b[0m\u001b[0;34m\u001b[0m\u001b[0m\n\u001b[0m\u001b[1;32m     44\u001b[0m         \u001b[0;32mfor\u001b[0m \u001b[0mbatch_elements\u001b[0m \u001b[0;32min\u001b[0m \u001b[0mds_test\u001b[0m\u001b[0;34m:\u001b[0m\u001b[0;34m\u001b[0m\u001b[0;34m\u001b[0m\u001b[0m\n\u001b[1;32m     45\u001b[0m             \u001b[0mtest_step\u001b[0m\u001b[0;34m(\u001b[0m\u001b[0;34m*\u001b[0m\u001b[0mbatch_elements\u001b[0m\u001b[0;34m,\u001b[0m\u001b[0;34m**\u001b[0m\u001b[0mscheduled_parameters\u001b[0m\u001b[0;34m[\u001b[0m\u001b[0mepoch\u001b[0m\u001b[0;34m]\u001b[0m\u001b[0;34m)\u001b[0m\u001b[0;34m\u001b[0m\u001b[0;34m\u001b[0m\u001b[0m\n",
      "\u001b[0;32m~/miniforge3/envs/tensorflow/lib/python3.9/site-packages/tensorflow/python/util/traceback_utils.py\u001b[0m in \u001b[0;36merror_handler\u001b[0;34m(*args, **kwargs)\u001b[0m\n\u001b[1;32m    148\u001b[0m     \u001b[0mfiltered_tb\u001b[0m \u001b[0;34m=\u001b[0m \u001b[0;32mNone\u001b[0m\u001b[0;34m\u001b[0m\u001b[0;34m\u001b[0m\u001b[0m\n\u001b[1;32m    149\u001b[0m     \u001b[0;32mtry\u001b[0m\u001b[0;34m:\u001b[0m\u001b[0;34m\u001b[0m\u001b[0;34m\u001b[0m\u001b[0m\n\u001b[0;32m--> 150\u001b[0;31m       \u001b[0;32mreturn\u001b[0m \u001b[0mfn\u001b[0m\u001b[0;34m(\u001b[0m\u001b[0;34m*\u001b[0m\u001b[0margs\u001b[0m\u001b[0;34m,\u001b[0m \u001b[0;34m**\u001b[0m\u001b[0mkwargs\u001b[0m\u001b[0;34m)\u001b[0m\u001b[0;34m\u001b[0m\u001b[0;34m\u001b[0m\u001b[0m\n\u001b[0m\u001b[1;32m    151\u001b[0m     \u001b[0;32mexcept\u001b[0m \u001b[0mException\u001b[0m \u001b[0;32mas\u001b[0m \u001b[0me\u001b[0m\u001b[0;34m:\u001b[0m\u001b[0;34m\u001b[0m\u001b[0;34m\u001b[0m\u001b[0m\n\u001b[1;32m    152\u001b[0m       \u001b[0mfiltered_tb\u001b[0m \u001b[0;34m=\u001b[0m \u001b[0m_process_traceback_frames\u001b[0m\u001b[0;34m(\u001b[0m\u001b[0me\u001b[0m\u001b[0;34m.\u001b[0m\u001b[0m__traceback__\u001b[0m\u001b[0;34m)\u001b[0m\u001b[0;34m\u001b[0m\u001b[0;34m\u001b[0m\u001b[0m\n",
      "\u001b[0;32m~/miniforge3/envs/tensorflow/lib/python3.9/site-packages/tensorflow/python/eager/def_function.py\u001b[0m in \u001b[0;36m__call__\u001b[0;34m(self, *args, **kwds)\u001b[0m\n\u001b[1;32m    908\u001b[0m \u001b[0;34m\u001b[0m\u001b[0m\n\u001b[1;32m    909\u001b[0m       \u001b[0;32mwith\u001b[0m \u001b[0mOptionalXlaContext\u001b[0m\u001b[0;34m(\u001b[0m\u001b[0mself\u001b[0m\u001b[0;34m.\u001b[0m\u001b[0m_jit_compile\u001b[0m\u001b[0;34m)\u001b[0m\u001b[0;34m:\u001b[0m\u001b[0;34m\u001b[0m\u001b[0;34m\u001b[0m\u001b[0m\n\u001b[0;32m--> 910\u001b[0;31m         \u001b[0mresult\u001b[0m \u001b[0;34m=\u001b[0m \u001b[0mself\u001b[0m\u001b[0;34m.\u001b[0m\u001b[0m_call\u001b[0m\u001b[0;34m(\u001b[0m\u001b[0;34m*\u001b[0m\u001b[0margs\u001b[0m\u001b[0;34m,\u001b[0m \u001b[0;34m**\u001b[0m\u001b[0mkwds\u001b[0m\u001b[0;34m)\u001b[0m\u001b[0;34m\u001b[0m\u001b[0;34m\u001b[0m\u001b[0m\n\u001b[0m\u001b[1;32m    911\u001b[0m \u001b[0;34m\u001b[0m\u001b[0m\n\u001b[1;32m    912\u001b[0m       \u001b[0mnew_tracing_count\u001b[0m \u001b[0;34m=\u001b[0m \u001b[0mself\u001b[0m\u001b[0;34m.\u001b[0m\u001b[0mexperimental_get_tracing_count\u001b[0m\u001b[0;34m(\u001b[0m\u001b[0;34m)\u001b[0m\u001b[0;34m\u001b[0m\u001b[0;34m\u001b[0m\u001b[0m\n",
      "\u001b[0;32m~/miniforge3/envs/tensorflow/lib/python3.9/site-packages/tensorflow/python/eager/def_function.py\u001b[0m in \u001b[0;36m_call\u001b[0;34m(self, *args, **kwds)\u001b[0m\n\u001b[1;32m    940\u001b[0m       \u001b[0;31m# In this case we have created variables on the first call, so we run the\u001b[0m\u001b[0;34m\u001b[0m\u001b[0;34m\u001b[0m\u001b[0m\n\u001b[1;32m    941\u001b[0m       \u001b[0;31m# defunned version which is guaranteed to never create variables.\u001b[0m\u001b[0;34m\u001b[0m\u001b[0;34m\u001b[0m\u001b[0m\n\u001b[0;32m--> 942\u001b[0;31m       \u001b[0;32mreturn\u001b[0m \u001b[0mself\u001b[0m\u001b[0;34m.\u001b[0m\u001b[0m_stateless_fn\u001b[0m\u001b[0;34m(\u001b[0m\u001b[0;34m*\u001b[0m\u001b[0margs\u001b[0m\u001b[0;34m,\u001b[0m \u001b[0;34m**\u001b[0m\u001b[0mkwds\u001b[0m\u001b[0;34m)\u001b[0m  \u001b[0;31m# pylint: disable=not-callable\u001b[0m\u001b[0;34m\u001b[0m\u001b[0;34m\u001b[0m\u001b[0m\n\u001b[0m\u001b[1;32m    943\u001b[0m     \u001b[0;32melif\u001b[0m \u001b[0mself\u001b[0m\u001b[0;34m.\u001b[0m\u001b[0m_stateful_fn\u001b[0m \u001b[0;32mis\u001b[0m \u001b[0;32mnot\u001b[0m \u001b[0;32mNone\u001b[0m\u001b[0;34m:\u001b[0m\u001b[0;34m\u001b[0m\u001b[0;34m\u001b[0m\u001b[0m\n\u001b[1;32m    944\u001b[0m       \u001b[0;31m# Release the lock early so that multiple threads can perform the call\u001b[0m\u001b[0;34m\u001b[0m\u001b[0;34m\u001b[0m\u001b[0m\n",
      "\u001b[0;32m~/miniforge3/envs/tensorflow/lib/python3.9/site-packages/tensorflow/python/eager/function.py\u001b[0m in \u001b[0;36m__call__\u001b[0;34m(self, *args, **kwargs)\u001b[0m\n\u001b[1;32m   3128\u001b[0m       (graph_function,\n\u001b[1;32m   3129\u001b[0m        filtered_flat_args) = self._maybe_define_function(args, kwargs)\n\u001b[0;32m-> 3130\u001b[0;31m     return graph_function._call_flat(\n\u001b[0m\u001b[1;32m   3131\u001b[0m         filtered_flat_args, captured_inputs=graph_function.captured_inputs)  # pylint: disable=protected-access\n\u001b[1;32m   3132\u001b[0m \u001b[0;34m\u001b[0m\u001b[0m\n",
      "\u001b[0;32m~/miniforge3/envs/tensorflow/lib/python3.9/site-packages/tensorflow/python/eager/function.py\u001b[0m in \u001b[0;36m_call_flat\u001b[0;34m(self, args, captured_inputs, cancellation_manager)\u001b[0m\n\u001b[1;32m   1957\u001b[0m         and executing_eagerly):\n\u001b[1;32m   1958\u001b[0m       \u001b[0;31m# No tape is watching; skip to running the function.\u001b[0m\u001b[0;34m\u001b[0m\u001b[0;34m\u001b[0m\u001b[0m\n\u001b[0;32m-> 1959\u001b[0;31m       return self._build_call_outputs(self._inference_function.call(\n\u001b[0m\u001b[1;32m   1960\u001b[0m           ctx, args, cancellation_manager=cancellation_manager))\n\u001b[1;32m   1961\u001b[0m     forward_backward = self._select_forward_and_backward_functions(\n",
      "\u001b[0;32m~/miniforge3/envs/tensorflow/lib/python3.9/site-packages/tensorflow/python/eager/function.py\u001b[0m in \u001b[0;36mcall\u001b[0;34m(self, ctx, args, cancellation_manager)\u001b[0m\n\u001b[1;32m    596\u001b[0m       \u001b[0;32mwith\u001b[0m \u001b[0m_InterpolateFunctionError\u001b[0m\u001b[0;34m(\u001b[0m\u001b[0mself\u001b[0m\u001b[0;34m)\u001b[0m\u001b[0;34m:\u001b[0m\u001b[0;34m\u001b[0m\u001b[0;34m\u001b[0m\u001b[0m\n\u001b[1;32m    597\u001b[0m         \u001b[0;32mif\u001b[0m \u001b[0mcancellation_manager\u001b[0m \u001b[0;32mis\u001b[0m \u001b[0;32mNone\u001b[0m\u001b[0;34m:\u001b[0m\u001b[0;34m\u001b[0m\u001b[0;34m\u001b[0m\u001b[0m\n\u001b[0;32m--> 598\u001b[0;31m           outputs = execute.execute(\n\u001b[0m\u001b[1;32m    599\u001b[0m               \u001b[0mstr\u001b[0m\u001b[0;34m(\u001b[0m\u001b[0mself\u001b[0m\u001b[0;34m.\u001b[0m\u001b[0msignature\u001b[0m\u001b[0;34m.\u001b[0m\u001b[0mname\u001b[0m\u001b[0;34m)\u001b[0m\u001b[0;34m,\u001b[0m\u001b[0;34m\u001b[0m\u001b[0;34m\u001b[0m\u001b[0m\n\u001b[1;32m    600\u001b[0m               \u001b[0mnum_outputs\u001b[0m\u001b[0;34m=\u001b[0m\u001b[0mself\u001b[0m\u001b[0;34m.\u001b[0m\u001b[0m_num_outputs\u001b[0m\u001b[0;34m,\u001b[0m\u001b[0;34m\u001b[0m\u001b[0;34m\u001b[0m\u001b[0m\n",
      "\u001b[0;32m~/miniforge3/envs/tensorflow/lib/python3.9/site-packages/tensorflow/python/eager/execute.py\u001b[0m in \u001b[0;36mquick_execute\u001b[0;34m(op_name, num_outputs, inputs, attrs, ctx, name)\u001b[0m\n\u001b[1;32m     56\u001b[0m   \u001b[0;32mtry\u001b[0m\u001b[0;34m:\u001b[0m\u001b[0;34m\u001b[0m\u001b[0;34m\u001b[0m\u001b[0m\n\u001b[1;32m     57\u001b[0m     \u001b[0mctx\u001b[0m\u001b[0;34m.\u001b[0m\u001b[0mensure_initialized\u001b[0m\u001b[0;34m(\u001b[0m\u001b[0;34m)\u001b[0m\u001b[0;34m\u001b[0m\u001b[0;34m\u001b[0m\u001b[0m\n\u001b[0;32m---> 58\u001b[0;31m     tensors = pywrap_tfe.TFE_Py_Execute(ctx._handle, device_name, op_name,\n\u001b[0m\u001b[1;32m     59\u001b[0m                                         inputs, attrs, num_outputs)\n\u001b[1;32m     60\u001b[0m   \u001b[0;32mexcept\u001b[0m \u001b[0mcore\u001b[0m\u001b[0;34m.\u001b[0m\u001b[0m_NotOkStatusException\u001b[0m \u001b[0;32mas\u001b[0m \u001b[0me\u001b[0m\u001b[0;34m:\u001b[0m\u001b[0;34m\u001b[0m\u001b[0;34m\u001b[0m\u001b[0m\n",
      "\u001b[0;31mKeyboardInterrupt\u001b[0m: "
     ]
    }
   ],
   "source": [
    "EPOCHS = 60\n",
    "train(\n",
    "    EPOCHS,\n",
    "    metrics_dict,\n",
    "    ds_train,\n",
    "    ds_test,\n",
    "    train_step,\n",
    "    test_step,\n",
    "    csv_path=\"results_attack.csv\",\n",
    "    track_metrics=1\n",
    ")\n",
    "\n"
   ]
  },
  {
   "cell_type": "code",
   "execution_count": null,
   "id": "3c187db5-8f70-4481-bd93-2e8c68df8af6",
   "metadata": {},
   "outputs": [],
   "source": [
    "#schimbat scaling, batch size, hidden layers"
   ]
  },
  {
   "cell_type": "code",
   "execution_count": null,
   "id": "b9f315ab-fa53-457b-8ef4-98d7ef1bd948",
   "metadata": {},
   "outputs": [],
   "source": []
  }
 ],
 "metadata": {
  "kernelspec": {
   "display_name": "Python 3 (ipykernel)",
   "language": "python",
   "name": "python3"
  },
  "language_info": {
   "codemirror_mode": {
    "name": "ipython",
    "version": 3
   },
   "file_extension": ".py",
   "mimetype": "text/x-python",
   "name": "python",
   "nbconvert_exporter": "python",
   "pygments_lexer": "ipython3",
   "version": "3.9.7"
  }
 },
 "nbformat": 4,
 "nbformat_minor": 5
}
