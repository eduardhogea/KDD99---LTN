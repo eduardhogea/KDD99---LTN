{
  "cells": [
    {
      "cell_type": "code",
      "execution_count": 1,
      "id": "40b608dd-b0e3-48a7-b4b6-c7a2c73397fc",
      "metadata": {
        "id": "40b608dd-b0e3-48a7-b4b6-c7a2c73397fc"
      },
      "outputs": [],
      "source": [
        "import numpy as np # linear algebra\n",
        "import pandas as pd # data processing, CSV file I/O (e.g. pd.read_csv)\n",
        "import matplotlib.pyplot as plt # this is used for the plot the graph \n",
        "import seaborn as sns # used for plot interactive graph.\n",
        "from sklearn.ensemble import RandomForestClassifier\n",
        "from sklearn.linear_model import LogisticRegression\n",
        "from sklearn.metrics import average_precision_score\n",
        "from sklearn.model_selection import cross_val_score\n",
        "from sklearn.metrics import precision_recall_curve\n",
        "from sklearn.neighbors import KNeighborsClassifier\n",
        "from sklearn.tree import DecisionTreeClassifier\n",
        "from sklearn.metrics import confusion_matrix\n",
        "from sklearn.metrics import accuracy_score\n",
        "from sklearn.naive_bayes import GaussianNB\n",
        "from sklearn.metrics import roc_curve\n",
        "from sklearn.metrics import f1_score\n",
        "from sklearn.metrics import auc\n",
        "from sklearn.svm import SVC\n",
        "%matplotlib inline\n",
        "from sklearn.model_selection import train_test_split\n",
        "import pandas  as pd\n",
        "from   keras.models import Sequential\n",
        "from   keras.layers import Dense             # i.e.fully connected"
      ]
    },
    {
      "cell_type": "code",
      "execution_count": 2,
      "id": "5b0c1540-8b97-4887-a1cb-3681b82fdc5c",
      "metadata": {
        "colab": {
          "base_uri": "https://localhost:8080/"
        },
        "id": "5b0c1540-8b97-4887-a1cb-3681b82fdc5c",
        "outputId": "b332032d-8fe0-44b2-fe03-1ddbae45f18e"
      },
      "outputs": [
        {
          "output_type": "execute_result",
          "data": {
            "text/plain": [
              "(36573, 11)"
            ]
          },
          "metadata": {},
          "execution_count": 2
        }
      ],
      "source": [
        "df = pd.read_csv(\"training.csv\", on_bad_lines='skip', skiprows=1)\n",
        "df = df.sample(frac=1) #shuffle\n",
        "df.sample(5)\n",
        "df.shape"
      ]
    },
    {
      "cell_type": "code",
      "execution_count": 3,
      "id": "92b4439e-73a8-40ce-b4bf-ba94fcd4eed2",
      "metadata": {
        "colab": {
          "base_uri": "https://localhost:8080/"
        },
        "id": "92b4439e-73a8-40ce-b4bf-ba94fcd4eed2",
        "outputId": "32d6a5ce-be06-46d4-8d46-a32b8270be0f"
      },
      "outputs": [
        {
          "output_type": "stream",
          "name": "stdout",
          "text": [
            "Null values in dataset are 0\n"
          ]
        },
        {
          "output_type": "execute_result",
          "data": {
            "text/plain": [
              "(36573, 11)"
            ]
          },
          "metadata": {},
          "execution_count": 3
        }
      ],
      "source": [
        "df.drop_duplicates(keep= 'first', inplace=True) #eliminarea dublurilor liniilor\n",
        "print('Null values in dataset are',len(df[df.isnull().any(1)]))\n",
        "df.shape"
      ]
    },
    {
      "cell_type": "code",
      "execution_count": 4,
      "id": "498dbf45-2a6e-4591-a003-e47d71d38928",
      "metadata": {
        "id": "498dbf45-2a6e-4591-a003-e47d71d38928"
      },
      "outputs": [],
      "source": [
        "X = df.drop(['Pozitie'], axis = 1)\n",
        "y = df[['Pozitie']].values"
      ]
    },
    {
      "cell_type": "code",
      "execution_count": 5,
      "id": "a31b570f-6cab-4749-a5e4-00078a5d6c25",
      "metadata": {
        "id": "a31b570f-6cab-4749-a5e4-00078a5d6c25"
      },
      "outputs": [],
      "source": [
        "from sklearn.model_selection import train_test_split\n",
        "\n",
        "X_train, X_test, y_train, y_test = train_test_split(X, y, test_size = 0.2, random_state=1)\n",
        "\n",
        "#X_train, X_val, y_train, y_val = train_test_split(X_train, y_train, test_size=0.25, random_state=1) # 0.25 x 0.8 = 0.2"
      ]
    },
    {
      "cell_type": "code",
      "execution_count": 6,
      "id": "2ac41442-5db5-4a10-85c6-5fbe02bd247c",
      "metadata": {
        "id": "2ac41442-5db5-4a10-85c6-5fbe02bd247c"
      },
      "outputs": [],
      "source": [
        "model = Sequential()\n",
        "\n",
        "# Adding the input layer and the first hidden layer\n",
        "model.add(Dense(units = 10, kernel_initializer='normal', activation = 'LeakyReLU'))\n",
        "\n",
        "# Adding the second hidden layer\n",
        "model.add(Dense(units = 20, kernel_initializer='normal', activation = 'LeakyReLU'))\n",
        "\n",
        "#Adding third hidden layer\n",
        "model.add(Dense(units = 20, kernel_initializer='normal', activation = 'LeakyReLU'))\n",
        "\n",
        "# Adding the output layer\n",
        "model.add(Dense(units = 1, kernel_initializer='normal', activation = 'linear'))\n",
        "\n",
        "# Compiling the ANN\n",
        "model.compile(optimizer = 'adam', loss = 'mean_absolute_error', metrics = ['accuracy'])"
      ]
    },
    {
      "cell_type": "code",
      "execution_count": 7,
      "id": "ff6c171a-6e62-46f4-b127-5e8563c5ed39",
      "metadata": {
        "colab": {
          "base_uri": "https://localhost:8080/"
        },
        "id": "ff6c171a-6e62-46f4-b127-5e8563c5ed39",
        "outputId": "db5387d9-61fa-4695-a0e9-057f54c72d1a"
      },
      "outputs": [
        {
          "output_type": "stream",
          "name": "stdout",
          "text": [
            "Epoch 1/100\n",
            "307/307 - 4s - loss: 0.2840 - accuracy: 0.0018 - val_loss: 0.2483 - val_accuracy: 0.0012 - 4s/epoch - 12ms/step\n",
            "Epoch 2/100\n",
            "307/307 - 1s - loss: 0.2476 - accuracy: 0.0025 - val_loss: 0.2427 - val_accuracy: 0.0026 - 1s/epoch - 5ms/step\n",
            "Epoch 3/100\n",
            "307/307 - 1s - loss: 0.2099 - accuracy: 0.0032 - val_loss: 0.1557 - val_accuracy: 0.0027 - 1s/epoch - 5ms/step\n",
            "Epoch 4/100\n",
            "307/307 - 1s - loss: 0.1494 - accuracy: 0.0037 - val_loss: 0.1420 - val_accuracy: 0.0028 - 1s/epoch - 4ms/step\n",
            "Epoch 5/100\n",
            "307/307 - 1s - loss: 0.1408 - accuracy: 0.0039 - val_loss: 0.1396 - val_accuracy: 0.0028 - 1s/epoch - 5ms/step\n",
            "Epoch 6/100\n",
            "307/307 - 1s - loss: 0.1372 - accuracy: 0.0039 - val_loss: 0.1326 - val_accuracy: 0.0028 - 1s/epoch - 4ms/step\n",
            "Epoch 7/100\n",
            "307/307 - 1s - loss: 0.1330 - accuracy: 0.0039 - val_loss: 0.1342 - val_accuracy: 0.0028 - 1s/epoch - 4ms/step\n",
            "Epoch 8/100\n",
            "307/307 - 2s - loss: 0.1291 - accuracy: 0.0039 - val_loss: 0.1246 - val_accuracy: 0.0028 - 2s/epoch - 5ms/step\n",
            "Epoch 9/100\n",
            "307/307 - 2s - loss: 0.1267 - accuracy: 0.0039 - val_loss: 0.1245 - val_accuracy: 0.0028 - 2s/epoch - 6ms/step\n",
            "Epoch 10/100\n",
            "307/307 - 2s - loss: 0.1220 - accuracy: 0.0038 - val_loss: 0.1192 - val_accuracy: 0.0028 - 2s/epoch - 5ms/step\n",
            "Epoch 11/100\n",
            "307/307 - 2s - loss: 0.1183 - accuracy: 0.0040 - val_loss: 0.1123 - val_accuracy: 0.0028 - 2s/epoch - 5ms/step\n",
            "Epoch 12/100\n",
            "307/307 - 2s - loss: 0.1144 - accuracy: 0.0039 - val_loss: 0.1071 - val_accuracy: 0.0028 - 2s/epoch - 5ms/step\n",
            "Epoch 13/100\n",
            "307/307 - 2s - loss: 0.1093 - accuracy: 0.0040 - val_loss: 0.1094 - val_accuracy: 0.0028 - 2s/epoch - 5ms/step\n",
            "Epoch 14/100\n",
            "307/307 - 2s - loss: 0.1015 - accuracy: 0.0041 - val_loss: 0.0904 - val_accuracy: 0.0028 - 2s/epoch - 5ms/step\n",
            "Epoch 15/100\n",
            "307/307 - 1s - loss: 0.0900 - accuracy: 0.0041 - val_loss: 0.0807 - val_accuracy: 0.0028 - 1s/epoch - 4ms/step\n",
            "Epoch 16/100\n",
            "307/307 - 1s - loss: 0.0823 - accuracy: 0.0041 - val_loss: 0.0824 - val_accuracy: 0.0028 - 1s/epoch - 4ms/step\n",
            "Epoch 17/100\n",
            "307/307 - 1s - loss: 0.0760 - accuracy: 0.0041 - val_loss: 0.0680 - val_accuracy: 0.0028 - 1s/epoch - 4ms/step\n",
            "Epoch 18/100\n",
            "307/307 - 1s - loss: 0.0686 - accuracy: 0.0041 - val_loss: 0.0707 - val_accuracy: 0.0028 - 802ms/epoch - 3ms/step\n",
            "Epoch 19/100\n",
            "307/307 - 1s - loss: 0.0654 - accuracy: 0.0041 - val_loss: 0.0565 - val_accuracy: 0.0028 - 639ms/epoch - 2ms/step\n",
            "Epoch 20/100\n",
            "307/307 - 1s - loss: 0.0577 - accuracy: 0.0041 - val_loss: 0.0531 - val_accuracy: 0.0028 - 776ms/epoch - 3ms/step\n",
            "Epoch 21/100\n",
            "307/307 - 1s - loss: 0.0536 - accuracy: 0.0041 - val_loss: 0.0514 - val_accuracy: 0.0028 - 763ms/epoch - 2ms/step\n",
            "Epoch 22/100\n",
            "307/307 - 1s - loss: 0.0510 - accuracy: 0.0041 - val_loss: 0.0573 - val_accuracy: 0.0028 - 776ms/epoch - 3ms/step\n",
            "Epoch 23/100\n",
            "307/307 - 1s - loss: 0.0482 - accuracy: 0.0041 - val_loss: 0.0435 - val_accuracy: 0.0028 - 813ms/epoch - 3ms/step\n",
            "Epoch 24/100\n",
            "307/307 - 1s - loss: 0.0467 - accuracy: 0.0041 - val_loss: 0.0604 - val_accuracy: 0.0028 - 663ms/epoch - 2ms/step\n",
            "Epoch 25/100\n",
            "307/307 - 1s - loss: 0.0447 - accuracy: 0.0041 - val_loss: 0.0377 - val_accuracy: 0.0028 - 663ms/epoch - 2ms/step\n",
            "Epoch 26/100\n",
            "307/307 - 1s - loss: 0.0425 - accuracy: 0.0041 - val_loss: 0.0539 - val_accuracy: 0.0028 - 662ms/epoch - 2ms/step\n",
            "Epoch 27/100\n",
            "307/307 - 1s - loss: 0.0392 - accuracy: 0.0041 - val_loss: 0.0363 - val_accuracy: 0.0028 - 669ms/epoch - 2ms/step\n",
            "Epoch 28/100\n",
            "307/307 - 1s - loss: 0.0382 - accuracy: 0.0041 - val_loss: 0.0399 - val_accuracy: 0.0028 - 787ms/epoch - 3ms/step\n",
            "Epoch 29/100\n",
            "307/307 - 1s - loss: 0.0364 - accuracy: 0.0041 - val_loss: 0.0312 - val_accuracy: 0.0028 - 619ms/epoch - 2ms/step\n",
            "Epoch 30/100\n",
            "307/307 - 1s - loss: 0.0365 - accuracy: 0.0041 - val_loss: 0.0329 - val_accuracy: 0.0028 - 619ms/epoch - 2ms/step\n",
            "Epoch 31/100\n",
            "307/307 - 1s - loss: 0.0328 - accuracy: 0.0041 - val_loss: 0.0290 - val_accuracy: 0.0028 - 644ms/epoch - 2ms/step\n",
            "Epoch 32/100\n",
            "307/307 - 1s - loss: 0.0314 - accuracy: 0.0041 - val_loss: 0.0266 - val_accuracy: 0.0028 - 778ms/epoch - 3ms/step\n",
            "Epoch 33/100\n",
            "307/307 - 1s - loss: 0.0319 - accuracy: 0.0041 - val_loss: 0.0267 - val_accuracy: 0.0028 - 622ms/epoch - 2ms/step\n",
            "Epoch 34/100\n",
            "307/307 - 1s - loss: 0.0302 - accuracy: 0.0041 - val_loss: 0.0255 - val_accuracy: 0.0028 - 661ms/epoch - 2ms/step\n",
            "Epoch 35/100\n",
            "307/307 - 1s - loss: 0.0273 - accuracy: 0.0041 - val_loss: 0.0243 - val_accuracy: 0.0028 - 785ms/epoch - 3ms/step\n",
            "Epoch 36/100\n",
            "307/307 - 1s - loss: 0.0267 - accuracy: 0.0041 - val_loss: 0.0316 - val_accuracy: 0.0028 - 780ms/epoch - 3ms/step\n",
            "Epoch 37/100\n",
            "307/307 - 1s - loss: 0.0295 - accuracy: 0.0041 - val_loss: 0.0223 - val_accuracy: 0.0028 - 766ms/epoch - 2ms/step\n",
            "Epoch 38/100\n",
            "307/307 - 1s - loss: 0.0260 - accuracy: 0.0041 - val_loss: 0.0291 - val_accuracy: 0.0028 - 787ms/epoch - 3ms/step\n",
            "Epoch 39/100\n",
            "307/307 - 1s - loss: 0.0249 - accuracy: 0.0041 - val_loss: 0.0212 - val_accuracy: 0.0028 - 659ms/epoch - 2ms/step\n",
            "Epoch 40/100\n",
            "307/307 - 1s - loss: 0.0266 - accuracy: 0.0041 - val_loss: 0.0263 - val_accuracy: 0.0028 - 648ms/epoch - 2ms/step\n",
            "Epoch 41/100\n",
            "307/307 - 1s - loss: 0.0231 - accuracy: 0.0041 - val_loss: 0.0482 - val_accuracy: 0.0028 - 789ms/epoch - 3ms/step\n",
            "Epoch 42/100\n",
            "307/307 - 1s - loss: 0.0242 - accuracy: 0.0041 - val_loss: 0.0203 - val_accuracy: 0.0028 - 650ms/epoch - 2ms/step\n",
            "Epoch 43/100\n",
            "307/307 - 1s - loss: 0.0214 - accuracy: 0.0041 - val_loss: 0.0375 - val_accuracy: 0.0028 - 752ms/epoch - 2ms/step\n",
            "Epoch 44/100\n",
            "307/307 - 1s - loss: 0.0225 - accuracy: 0.0041 - val_loss: 0.0212 - val_accuracy: 0.0028 - 784ms/epoch - 3ms/step\n",
            "Epoch 45/100\n",
            "307/307 - 1s - loss: 0.0219 - accuracy: 0.0041 - val_loss: 0.0190 - val_accuracy: 0.0028 - 776ms/epoch - 3ms/step\n",
            "Epoch 46/100\n",
            "307/307 - 1s - loss: 0.0206 - accuracy: 0.0041 - val_loss: 0.0299 - val_accuracy: 0.0028 - 765ms/epoch - 2ms/step\n",
            "Epoch 47/100\n",
            "307/307 - 1s - loss: 0.0210 - accuracy: 0.0041 - val_loss: 0.0339 - val_accuracy: 0.0028 - 768ms/epoch - 3ms/step\n",
            "Epoch 48/100\n",
            "307/307 - 1s - loss: 0.0216 - accuracy: 0.0041 - val_loss: 0.0312 - val_accuracy: 0.0028 - 647ms/epoch - 2ms/step\n",
            "Epoch 49/100\n",
            "307/307 - 1s - loss: 0.0196 - accuracy: 0.0041 - val_loss: 0.0147 - val_accuracy: 0.0028 - 794ms/epoch - 3ms/step\n",
            "Epoch 50/100\n",
            "307/307 - 1s - loss: 0.0187 - accuracy: 0.0041 - val_loss: 0.0163 - val_accuracy: 0.0028 - 644ms/epoch - 2ms/step\n",
            "Epoch 51/100\n",
            "307/307 - 1s - loss: 0.0194 - accuracy: 0.0041 - val_loss: 0.0375 - val_accuracy: 0.0028 - 761ms/epoch - 2ms/step\n",
            "Epoch 52/100\n",
            "307/307 - 1s - loss: 0.0188 - accuracy: 0.0041 - val_loss: 0.0156 - val_accuracy: 0.0028 - 796ms/epoch - 3ms/step\n",
            "Epoch 53/100\n",
            "307/307 - 1s - loss: 0.0184 - accuracy: 0.0041 - val_loss: 0.0193 - val_accuracy: 0.0028 - 649ms/epoch - 2ms/step\n",
            "Epoch 54/100\n",
            "307/307 - 1s - loss: 0.0186 - accuracy: 0.0041 - val_loss: 0.0138 - val_accuracy: 0.0028 - 760ms/epoch - 2ms/step\n",
            "Epoch 55/100\n",
            "307/307 - 1s - loss: 0.0178 - accuracy: 0.0041 - val_loss: 0.0311 - val_accuracy: 0.0028 - 613ms/epoch - 2ms/step\n",
            "Epoch 56/100\n",
            "307/307 - 1s - loss: 0.0185 - accuracy: 0.0041 - val_loss: 0.0156 - val_accuracy: 0.0028 - 792ms/epoch - 3ms/step\n",
            "Epoch 57/100\n",
            "307/307 - 1s - loss: 0.0185 - accuracy: 0.0041 - val_loss: 0.0205 - val_accuracy: 0.0028 - 768ms/epoch - 3ms/step\n",
            "Epoch 58/100\n",
            "307/307 - 1s - loss: 0.0170 - accuracy: 0.0041 - val_loss: 0.0148 - val_accuracy: 0.0028 - 782ms/epoch - 3ms/step\n",
            "Epoch 59/100\n",
            "307/307 - 1s - loss: 0.0148 - accuracy: 0.0041 - val_loss: 0.0107 - val_accuracy: 0.0028 - 646ms/epoch - 2ms/step\n",
            "Epoch 60/100\n",
            "307/307 - 1s - loss: 0.0153 - accuracy: 0.0041 - val_loss: 0.0157 - val_accuracy: 0.0028 - 653ms/epoch - 2ms/step\n",
            "Epoch 61/100\n",
            "307/307 - 1s - loss: 0.0170 - accuracy: 0.0041 - val_loss: 0.0104 - val_accuracy: 0.0028 - 795ms/epoch - 3ms/step\n",
            "Epoch 62/100\n",
            "307/307 - 1s - loss: 0.0154 - accuracy: 0.0041 - val_loss: 0.0306 - val_accuracy: 0.0028 - 769ms/epoch - 3ms/step\n",
            "Epoch 63/100\n",
            "307/307 - 1s - loss: 0.0171 - accuracy: 0.0041 - val_loss: 0.0099 - val_accuracy: 0.0028 - 770ms/epoch - 3ms/step\n",
            "Epoch 64/100\n",
            "307/307 - 1s - loss: 0.0166 - accuracy: 0.0041 - val_loss: 0.0103 - val_accuracy: 0.0028 - 780ms/epoch - 3ms/step\n",
            "Epoch 65/100\n",
            "307/307 - 1s - loss: 0.0162 - accuracy: 0.0041 - val_loss: 0.0143 - val_accuracy: 0.0028 - 774ms/epoch - 3ms/step\n",
            "Epoch 66/100\n",
            "307/307 - 1s - loss: 0.0149 - accuracy: 0.0041 - val_loss: 0.0167 - val_accuracy: 0.0028 - 791ms/epoch - 3ms/step\n",
            "Epoch 67/100\n",
            "307/307 - 1s - loss: 0.0158 - accuracy: 0.0041 - val_loss: 0.0167 - val_accuracy: 0.0028 - 656ms/epoch - 2ms/step\n",
            "Epoch 68/100\n",
            "307/307 - 1s - loss: 0.0157 - accuracy: 0.0041 - val_loss: 0.0156 - val_accuracy: 0.0028 - 802ms/epoch - 3ms/step\n",
            "Epoch 69/100\n",
            "307/307 - 1s - loss: 0.0146 - accuracy: 0.0041 - val_loss: 0.0197 - val_accuracy: 0.0028 - 787ms/epoch - 3ms/step\n",
            "Epoch 70/100\n",
            "307/307 - 1s - loss: 0.0172 - accuracy: 0.0041 - val_loss: 0.0121 - val_accuracy: 0.0028 - 746ms/epoch - 2ms/step\n",
            "Epoch 71/100\n",
            "307/307 - 1s - loss: 0.0181 - accuracy: 0.0041 - val_loss: 0.0103 - val_accuracy: 0.0028 - 781ms/epoch - 3ms/step\n",
            "Epoch 72/100\n",
            "307/307 - 1s - loss: 0.0168 - accuracy: 0.0041 - val_loss: 0.0201 - val_accuracy: 0.0028 - 660ms/epoch - 2ms/step\n",
            "Epoch 73/100\n",
            "307/307 - 1s - loss: 0.0145 - accuracy: 0.0041 - val_loss: 0.0142 - val_accuracy: 0.0028 - 625ms/epoch - 2ms/step\n",
            "Epoch 74/100\n",
            "307/307 - 1s - loss: 0.0154 - accuracy: 0.0041 - val_loss: 0.0091 - val_accuracy: 0.0028 - 775ms/epoch - 3ms/step\n",
            "Epoch 75/100\n",
            "307/307 - 1s - loss: 0.0144 - accuracy: 0.0041 - val_loss: 0.0171 - val_accuracy: 0.0028 - 627ms/epoch - 2ms/step\n",
            "Epoch 76/100\n",
            "307/307 - 1s - loss: 0.0148 - accuracy: 0.0041 - val_loss: 0.0294 - val_accuracy: 0.0028 - 648ms/epoch - 2ms/step\n",
            "Epoch 77/100\n",
            "307/307 - 1s - loss: 0.0148 - accuracy: 0.0041 - val_loss: 0.0090 - val_accuracy: 0.0028 - 781ms/epoch - 3ms/step\n",
            "Epoch 78/100\n",
            "307/307 - 1s - loss: 0.0151 - accuracy: 0.0041 - val_loss: 0.0254 - val_accuracy: 0.0028 - 656ms/epoch - 2ms/step\n",
            "Epoch 79/100\n",
            "307/307 - 1s - loss: 0.0147 - accuracy: 0.0041 - val_loss: 0.0204 - val_accuracy: 0.0028 - 772ms/epoch - 3ms/step\n",
            "Epoch 80/100\n",
            "307/307 - 1s - loss: 0.0150 - accuracy: 0.0041 - val_loss: 0.0228 - val_accuracy: 0.0028 - 637ms/epoch - 2ms/step\n",
            "Epoch 81/100\n",
            "307/307 - 1s - loss: 0.0153 - accuracy: 0.0041 - val_loss: 0.0151 - val_accuracy: 0.0028 - 667ms/epoch - 2ms/step\n",
            "Epoch 82/100\n",
            "307/307 - 1s - loss: 0.0142 - accuracy: 0.0041 - val_loss: 0.0093 - val_accuracy: 0.0028 - 654ms/epoch - 2ms/step\n",
            "Epoch 83/100\n",
            "307/307 - 1s - loss: 0.0145 - accuracy: 0.0041 - val_loss: 0.0086 - val_accuracy: 0.0028 - 762ms/epoch - 2ms/step\n",
            "Epoch 84/100\n",
            "307/307 - 1s - loss: 0.0150 - accuracy: 0.0041 - val_loss: 0.0149 - val_accuracy: 0.0028 - 782ms/epoch - 3ms/step\n",
            "Epoch 85/100\n",
            "307/307 - 1s - loss: 0.0129 - accuracy: 0.0041 - val_loss: 0.0120 - val_accuracy: 0.0028 - 796ms/epoch - 3ms/step\n",
            "Epoch 86/100\n",
            "307/307 - 1s - loss: 0.0180 - accuracy: 0.0041 - val_loss: 0.0113 - val_accuracy: 0.0028 - 635ms/epoch - 2ms/step\n",
            "Epoch 87/100\n",
            "307/307 - 1s - loss: 0.0138 - accuracy: 0.0041 - val_loss: 0.0394 - val_accuracy: 0.0028 - 782ms/epoch - 3ms/step\n",
            "Epoch 88/100\n",
            "307/307 - 1s - loss: 0.0148 - accuracy: 0.0041 - val_loss: 0.0107 - val_accuracy: 0.0028 - 811ms/epoch - 3ms/step\n",
            "Epoch 89/100\n",
            "307/307 - 1s - loss: 0.0172 - accuracy: 0.0041 - val_loss: 0.0128 - val_accuracy: 0.0028 - 828ms/epoch - 3ms/step\n",
            "Epoch 90/100\n",
            "307/307 - 1s - loss: 0.0148 - accuracy: 0.0041 - val_loss: 0.0224 - val_accuracy: 0.0028 - 686ms/epoch - 2ms/step\n",
            "Epoch 91/100\n",
            "307/307 - 1s - loss: 0.0143 - accuracy: 0.0041 - val_loss: 0.0166 - val_accuracy: 0.0028 - 660ms/epoch - 2ms/step\n",
            "Epoch 92/100\n",
            "307/307 - 1s - loss: 0.0135 - accuracy: 0.0041 - val_loss: 0.0217 - val_accuracy: 0.0028 - 661ms/epoch - 2ms/step\n",
            "Epoch 93/100\n",
            "307/307 - 1s - loss: 0.0150 - accuracy: 0.0041 - val_loss: 0.0167 - val_accuracy: 0.0028 - 645ms/epoch - 2ms/step\n",
            "Epoch 94/100\n",
            "307/307 - 1s - loss: 0.0153 - accuracy: 0.0041 - val_loss: 0.0088 - val_accuracy: 0.0028 - 777ms/epoch - 3ms/step\n",
            "Epoch 95/100\n",
            "307/307 - 1s - loss: 0.0169 - accuracy: 0.0041 - val_loss: 0.0093 - val_accuracy: 0.0028 - 657ms/epoch - 2ms/step\n",
            "Epoch 96/100\n",
            "307/307 - 1s - loss: 0.0132 - accuracy: 0.0041 - val_loss: 0.0092 - val_accuracy: 0.0028 - 659ms/epoch - 2ms/step\n",
            "Epoch 97/100\n",
            "307/307 - 1s - loss: 0.0127 - accuracy: 0.0041 - val_loss: 0.0226 - val_accuracy: 0.0028 - 677ms/epoch - 2ms/step\n",
            "Epoch 98/100\n",
            "307/307 - 1s - loss: 0.0143 - accuracy: 0.0041 - val_loss: 0.0263 - val_accuracy: 0.0028 - 648ms/epoch - 2ms/step\n",
            "Epoch 99/100\n",
            "307/307 - 1s - loss: 0.0143 - accuracy: 0.0041 - val_loss: 0.0109 - val_accuracy: 0.0028 - 783ms/epoch - 3ms/step\n",
            "Epoch 100/100\n",
            "307/307 - 1s - loss: 0.0143 - accuracy: 0.0041 - val_loss: 0.0100 - val_accuracy: 0.0028 - 741ms/epoch - 2ms/step\n"
          ]
        }
      ],
      "source": [
        "history = model.fit(X_train, y_train,validation_split=0.33, batch_size = 64, epochs = 100, verbose = 2)"
      ]
    },
    {
      "cell_type": "code",
      "execution_count": 8,
      "id": "76f6c763-992e-419a-9fdd-358c595d1a66",
      "metadata": {
        "id": "76f6c763-992e-419a-9fdd-358c595d1a66"
      },
      "outputs": [],
      "source": [
        "import pickle\n",
        "with open('/trainHistoryDict', 'wb') as file_pi:\n",
        "        pickle.dump(history.history, file_pi)"
      ]
    },
    {
      "cell_type": "code",
      "execution_count": 20,
      "id": "c1be987f-238b-4b19-9ee1-ef7c3030effd",
      "metadata": {
        "colab": {
          "base_uri": "https://localhost:8080/",
          "height": 295
        },
        "id": "c1be987f-238b-4b19-9ee1-ef7c3030effd",
        "outputId": "8002a67e-7bda-463e-9904-1da789dbccea"
      },
      "outputs": [
        {
          "output_type": "display_data",
          "data": {
            "text/plain": [
              "<Figure size 432x288 with 1 Axes>"
            ],
            "image/png": "[encoded data removed]"
          },
          "metadata": {
            "needs_background": "light"
          }
        }
      ],
      "source": [
        "plt.plot(history.history['loss'])\n",
        "plt.plot(history.history['val_loss'])\n",
        "plt.title('model mean absolute error')\n",
        "plt.ylabel('loss')\n",
        "plt.xlabel('epoch')\n",
        "plt.legend(['train data', 'validation data'], loc='upper right')\n",
        "plt.savefig('/loss.pdf')  \n",
        "plt.show()"
      ]
    }
  ],
  "metadata": {
    "kernelspec": {
      "display_name": "Python 3 (ipykernel)",
      "language": "python",
      "name": "python3"
    },
    "language_info": {
      "codemirror_mode": {
        "name": "ipython",
        "version": 3
      },
      "file_extension": ".py",
      "mimetype": "text/x-python",
      "name": "python",
      "nbconvert_exporter": "python",
      "pygments_lexer": "ipython3",
      "version": "3.9.7"
    },
    "colab": {
      "name": "Cantilever_DNN.ipynb",
      "provenance": [],
      "collapsed_sections": []
    }
  },
  "nbformat": 4,
  "nbformat_minor": 5
}