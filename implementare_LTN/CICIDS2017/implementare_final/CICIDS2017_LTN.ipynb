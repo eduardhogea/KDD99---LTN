{
 "cells": [
  {
   "cell_type": "code",
   "execution_count": 1,
   "id": "bf28b6ed-7332-4318-90d0-367246d7ec4c",
   "metadata": {},
   "outputs": [],
   "source": [
    "# import required libraries \n",
    "import glob\n",
    "import matplotlib.pyplot as plt\n",
    "import numpy as np\n",
    "import pandas as pd \n",
    "import seaborn\n",
    "\n",
    "from tensorflow.keras.layers import Dense, Input\n",
    "from tensorflow.keras.models import Model\n",
    "\n",
    "from numpy import array\n",
    "\n",
    "from sklearn import preprocessing\n",
    "from sklearn.preprocessing import RobustScaler\n",
    "\n",
    "from sklearn.feature_selection import SelectKBest\n",
    "from sklearn.feature_selection import chi2\n",
    "from sklearn.feature_selection import mutual_info_classif\n",
    "\n",
    "from sklearn.model_selection import train_test_split\n",
    "from tensorflow.keras.layers import Flatten\n",
    "from tensorflow.keras.layers import Dropout\n",
    "\n",
    "import json\n",
    "import numpy as np\n",
    "import pandas as pd\n",
    "from pandas.io.json import json_normalize\n",
    "import gc\n",
    "\n",
    "from scipy import stats\n",
    "\n",
    "import warnings\n",
    "import logictensornetworks as ltn\n",
    "warnings.filterwarnings(\"ignore\")\n",
    "\n",
    "get_ipython().run_line_magic('matplotlib', 'inline')"
   ]
  },
  {
   "cell_type": "code",
   "execution_count": 2,
   "id": "bb22abdf-9036-456b-a47e-426ec7eda74e",
   "metadata": {},
   "outputs": [],
   "source": [
    "df1 = pd.read_csv(\"/Users/eduard.hogea/Documents/Facultate/Internship/explorare/KNN99---LTN/datesets/CICIDS2017/Friday-WorkingHours-Afternoon-DDos.pcap_ISCX.csv\", skipinitialspace = True)\n",
    "\n",
    "\n",
    "df2 = pd.read_csv(\"/Users/eduard.hogea/Documents/Facultate/Internship/explorare/KNN99---LTN/datesets/CICIDS2017/Friday-WorkingHours-Afternoon-PortScan.pcap_ISCX.csv\", skipinitialspace = True)\n",
    "\n",
    "\n",
    "\n",
    "\n",
    "dataset = pd.concat([df1,df2]).drop_duplicates(keep=False)\n",
    "dataset.reset_index(drop=True, inplace = True)"
   ]
  },
  {
   "cell_type": "code",
   "execution_count": 3,
   "id": "ffec7ecc-91b5-4bd3-95ae-b52481714ab3",
   "metadata": {},
   "outputs": [
    {
     "data": {
      "text/html": [
       "<div>\n",
       "<style scoped>\n",
       "    .dataframe tbody tr th:only-of-type {\n",
       "        vertical-align: middle;\n",
       "    }\n",
       "\n",
       "    .dataframe tbody tr th {\n",
       "        vertical-align: top;\n",
       "    }\n",
       "\n",
       "    .dataframe thead th {\n",
       "        text-align: right;\n",
       "    }\n",
       "</style>\n",
       "<table border=\"1\" class=\"dataframe\">\n",
       "  <thead>\n",
       "    <tr style=\"text-align: right;\">\n",
       "      <th></th>\n",
       "      <th>DestinationPort</th>\n",
       "      <th>FlowDuration</th>\n",
       "      <th>TotalFwdPackets</th>\n",
       "      <th>TotalBackwardPackets</th>\n",
       "      <th>TotalLengthofFwdPackets</th>\n",
       "      <th>TotalLengthofBwdPackets</th>\n",
       "      <th>FwdPacketLengthMax</th>\n",
       "      <th>FwdPacketLengthMin</th>\n",
       "      <th>FwdPacketLengthMean</th>\n",
       "      <th>FwdPacketLengthStd</th>\n",
       "      <th>...</th>\n",
       "      <th>min_seg_size_forward</th>\n",
       "      <th>ActiveMean</th>\n",
       "      <th>ActiveStd</th>\n",
       "      <th>ActiveMax</th>\n",
       "      <th>ActiveMin</th>\n",
       "      <th>IdleMean</th>\n",
       "      <th>IdleStd</th>\n",
       "      <th>IdleMax</th>\n",
       "      <th>IdleMin</th>\n",
       "      <th>Label</th>\n",
       "    </tr>\n",
       "  </thead>\n",
       "  <tbody>\n",
       "    <tr>\n",
       "      <th>0</th>\n",
       "      <td>54865</td>\n",
       "      <td>3</td>\n",
       "      <td>2</td>\n",
       "      <td>0</td>\n",
       "      <td>12</td>\n",
       "      <td>0</td>\n",
       "      <td>6</td>\n",
       "      <td>6</td>\n",
       "      <td>6.0</td>\n",
       "      <td>0.0</td>\n",
       "      <td>...</td>\n",
       "      <td>20</td>\n",
       "      <td>0.0</td>\n",
       "      <td>0.0</td>\n",
       "      <td>0</td>\n",
       "      <td>0</td>\n",
       "      <td>0.0</td>\n",
       "      <td>0.0</td>\n",
       "      <td>0</td>\n",
       "      <td>0</td>\n",
       "      <td>BENIGN</td>\n",
       "    </tr>\n",
       "    <tr>\n",
       "      <th>1</th>\n",
       "      <td>55054</td>\n",
       "      <td>109</td>\n",
       "      <td>1</td>\n",
       "      <td>1</td>\n",
       "      <td>6</td>\n",
       "      <td>6</td>\n",
       "      <td>6</td>\n",
       "      <td>6</td>\n",
       "      <td>6.0</td>\n",
       "      <td>0.0</td>\n",
       "      <td>...</td>\n",
       "      <td>20</td>\n",
       "      <td>0.0</td>\n",
       "      <td>0.0</td>\n",
       "      <td>0</td>\n",
       "      <td>0</td>\n",
       "      <td>0.0</td>\n",
       "      <td>0.0</td>\n",
       "      <td>0</td>\n",
       "      <td>0</td>\n",
       "      <td>BENIGN</td>\n",
       "    </tr>\n",
       "    <tr>\n",
       "      <th>2</th>\n",
       "      <td>55055</td>\n",
       "      <td>52</td>\n",
       "      <td>1</td>\n",
       "      <td>1</td>\n",
       "      <td>6</td>\n",
       "      <td>6</td>\n",
       "      <td>6</td>\n",
       "      <td>6</td>\n",
       "      <td>6.0</td>\n",
       "      <td>0.0</td>\n",
       "      <td>...</td>\n",
       "      <td>20</td>\n",
       "      <td>0.0</td>\n",
       "      <td>0.0</td>\n",
       "      <td>0</td>\n",
       "      <td>0</td>\n",
       "      <td>0.0</td>\n",
       "      <td>0.0</td>\n",
       "      <td>0</td>\n",
       "      <td>0</td>\n",
       "      <td>BENIGN</td>\n",
       "    </tr>\n",
       "    <tr>\n",
       "      <th>3</th>\n",
       "      <td>46236</td>\n",
       "      <td>34</td>\n",
       "      <td>1</td>\n",
       "      <td>1</td>\n",
       "      <td>6</td>\n",
       "      <td>6</td>\n",
       "      <td>6</td>\n",
       "      <td>6</td>\n",
       "      <td>6.0</td>\n",
       "      <td>0.0</td>\n",
       "      <td>...</td>\n",
       "      <td>20</td>\n",
       "      <td>0.0</td>\n",
       "      <td>0.0</td>\n",
       "      <td>0</td>\n",
       "      <td>0</td>\n",
       "      <td>0.0</td>\n",
       "      <td>0.0</td>\n",
       "      <td>0</td>\n",
       "      <td>0</td>\n",
       "      <td>BENIGN</td>\n",
       "    </tr>\n",
       "    <tr>\n",
       "      <th>4</th>\n",
       "      <td>54863</td>\n",
       "      <td>3</td>\n",
       "      <td>2</td>\n",
       "      <td>0</td>\n",
       "      <td>12</td>\n",
       "      <td>0</td>\n",
       "      <td>6</td>\n",
       "      <td>6</td>\n",
       "      <td>6.0</td>\n",
       "      <td>0.0</td>\n",
       "      <td>...</td>\n",
       "      <td>20</td>\n",
       "      <td>0.0</td>\n",
       "      <td>0.0</td>\n",
       "      <td>0</td>\n",
       "      <td>0</td>\n",
       "      <td>0.0</td>\n",
       "      <td>0.0</td>\n",
       "      <td>0</td>\n",
       "      <td>0</td>\n",
       "      <td>BENIGN</td>\n",
       "    </tr>\n",
       "  </tbody>\n",
       "</table>\n",
       "<p>5 rows × 79 columns</p>\n",
       "</div>"
      ],
      "text/plain": [
       "   DestinationPort  FlowDuration  TotalFwdPackets  TotalBackwardPackets  \\\n",
       "0            54865             3                2                     0   \n",
       "1            55054           109                1                     1   \n",
       "2            55055            52                1                     1   \n",
       "3            46236            34                1                     1   \n",
       "4            54863             3                2                     0   \n",
       "\n",
       "   TotalLengthofFwdPackets  TotalLengthofBwdPackets  FwdPacketLengthMax  \\\n",
       "0                       12                        0                   6   \n",
       "1                        6                        6                   6   \n",
       "2                        6                        6                   6   \n",
       "3                        6                        6                   6   \n",
       "4                       12                        0                   6   \n",
       "\n",
       "   FwdPacketLengthMin  FwdPacketLengthMean  FwdPacketLengthStd  ...  \\\n",
       "0                   6                  6.0                 0.0  ...   \n",
       "1                   6                  6.0                 0.0  ...   \n",
       "2                   6                  6.0                 0.0  ...   \n",
       "3                   6                  6.0                 0.0  ...   \n",
       "4                   6                  6.0                 0.0  ...   \n",
       "\n",
       "   min_seg_size_forward  ActiveMean  ActiveStd  ActiveMax  ActiveMin  \\\n",
       "0                    20         0.0        0.0          0          0   \n",
       "1                    20         0.0        0.0          0          0   \n",
       "2                    20         0.0        0.0          0          0   \n",
       "3                    20         0.0        0.0          0          0   \n",
       "4                    20         0.0        0.0          0          0   \n",
       "\n",
       "   IdleMean  IdleStd  IdleMax  IdleMin   Label  \n",
       "0       0.0      0.0        0        0  BENIGN  \n",
       "1       0.0      0.0        0        0  BENIGN  \n",
       "2       0.0      0.0        0        0  BENIGN  \n",
       "3       0.0      0.0        0        0  BENIGN  \n",
       "4       0.0      0.0        0        0  BENIGN  \n",
       "\n",
       "[5 rows x 79 columns]"
      ]
     },
     "execution_count": 3,
     "metadata": {},
     "output_type": "execute_result"
    }
   ],
   "source": [
    "col_names = [col.replace(' ', '') for col in dataset.columns]\n",
    "dataset.columns = col_names\n",
    "dataset.head()"
   ]
  },
  {
   "cell_type": "code",
   "execution_count": 4,
   "id": "71c66b7b-766b-4963-b2df-4b79b25f68f5",
   "metadata": {},
   "outputs": [
    {
     "data": {
      "text/plain": [
       "(['BENIGN', 'DDoS', 'PortScan'], 3)"
      ]
     },
     "execution_count": 4,
     "metadata": {},
     "output_type": "execute_result"
    }
   ],
   "source": [
    "label_names = dataset['Label'].unique()\n",
    "\n",
    "import re\n",
    "\n",
    "label_names = [re.sub(\"[^a-zA-Z ]+\", \"\", l) for l in label_names]\n",
    "label_names = [re.sub(\"[\\s\\s]\", '_', l) for l in label_names]\n",
    "label_names = [lab.replace(\"__\", \"_\") for lab in label_names]\n",
    "\n",
    "label_names, len(label_names)"
   ]
  },
  {
   "cell_type": "code",
   "execution_count": 5,
   "id": "49dab5ec-8f38-4bd6-af83-cc66f3910897",
   "metadata": {},
   "outputs": [
    {
     "data": {
      "text/plain": [
       "array(['BENIGN', 'DDoS', 'PortScan'], dtype=object)"
      ]
     },
     "execution_count": 5,
     "metadata": {},
     "output_type": "execute_result"
    }
   ],
   "source": [
    "labels = dataset['Label'].unique()\n",
    "\n",
    "for i in range(0,len(label_names)):\n",
    "    dataset['Label'] = dataset['Label'].replace({labels[i] : label_names[i]})\n",
    "    \n",
    "dataset['Label'].unique()"
   ]
  },
  {
   "cell_type": "code",
   "execution_count": 6,
   "id": "cadf37bc-8b7f-47df-9b0a-47c3c1295660",
   "metadata": {},
   "outputs": [],
   "source": [
    "dataset.dropna(inplace=True)"
   ]
  },
  {
   "cell_type": "code",
   "execution_count": 7,
   "id": "98805b3a-ae20-451d-8ea3-f5a8304177d8",
   "metadata": {},
   "outputs": [],
   "source": [
    "labl = dataset[['Label']]\n",
    "dataset = dataset.loc[:, dataset.columns != 'Label'].astype('float64')"
   ]
  },
  {
   "cell_type": "code",
   "execution_count": 8,
   "id": "43305385-8c51-4c9d-9f02-9b42481a80b0",
   "metadata": {},
   "outputs": [],
   "source": [
    "dataset = dataset.replace([np.inf, -np.inf], np.nan)"
   ]
  },
  {
   "cell_type": "code",
   "execution_count": 9,
   "id": "cd0f40e8-6c44-4c50-a42b-2a16b72d7405",
   "metadata": {},
   "outputs": [],
   "source": [
    "dataset = dataset.merge(labl, how='outer', left_index=True, right_index=True)"
   ]
  },
  {
   "cell_type": "code",
   "execution_count": 10,
   "id": "5776c42b-4584-40c0-8300-4f9892f31966",
   "metadata": {},
   "outputs": [],
   "source": [
    "dataset.dropna(inplace=True)"
   ]
  },
  {
   "cell_type": "code",
   "execution_count": 11,
   "id": "a59776df-746d-41c0-887c-c95f158e1a6e",
   "metadata": {},
   "outputs": [
    {
     "data": {
      "text/plain": [
       "Index(['DestinationPort', 'FlowDuration', 'TotalFwdPackets',\n",
       "       'TotalBackwardPackets', 'TotalLengthofFwdPackets',\n",
       "       'TotalLengthofBwdPackets', 'FwdPacketLengthMax', 'FwdPacketLengthMin',\n",
       "       'FwdPacketLengthMean', 'FwdPacketLengthStd', 'BwdPacketLengthMax',\n",
       "       'BwdPacketLengthMin', 'BwdPacketLengthMean', 'BwdPacketLengthStd',\n",
       "       'FlowBytes/s', 'FlowPackets/s', 'FlowIATMean', 'FlowIATStd',\n",
       "       'FlowIATMax', 'FlowIATMin', 'FwdIATTotal', 'FwdIATMean', 'FwdIATStd',\n",
       "       'FwdIATMax', 'FwdIATMin', 'BwdIATTotal', 'BwdIATMean', 'BwdIATStd',\n",
       "       'BwdIATMax', 'BwdIATMin', 'FwdPSHFlags', 'BwdPSHFlags', 'FwdURGFlags',\n",
       "       'BwdURGFlags', 'FwdHeaderLength', 'BwdHeaderLength', 'FwdPackets/s',\n",
       "       'BwdPackets/s', 'MinPacketLength', 'MaxPacketLength',\n",
       "       'PacketLengthMean', 'PacketLengthStd', 'PacketLengthVariance',\n",
       "       'FINFlagCount', 'SYNFlagCount', 'RSTFlagCount', 'PSHFlagCount',\n",
       "       'ACKFlagCount', 'URGFlagCount', 'CWEFlagCount', 'ECEFlagCount',\n",
       "       'Down/UpRatio', 'AveragePacketSize', 'AvgFwdSegmentSize',\n",
       "       'AvgBwdSegmentSize', 'FwdHeaderLength.1', 'FwdAvgBytes/Bulk',\n",
       "       'FwdAvgPackets/Bulk', 'FwdAvgBulkRate', 'BwdAvgBytes/Bulk',\n",
       "       'BwdAvgPackets/Bulk', 'BwdAvgBulkRate', 'SubflowFwdPackets',\n",
       "       'SubflowFwdBytes', 'SubflowBwdPackets', 'SubflowBwdBytes',\n",
       "       'Init_Win_bytes_forward', 'Init_Win_bytes_backward', 'act_data_pkt_fwd',\n",
       "       'min_seg_size_forward', 'ActiveMean', 'ActiveStd', 'ActiveMax',\n",
       "       'ActiveMin', 'IdleMean', 'IdleStd', 'IdleMax', 'IdleMin', 'Label'],\n",
       "      dtype='object')"
      ]
     },
     "execution_count": 11,
     "metadata": {},
     "output_type": "execute_result"
    }
   ],
   "source": [
    "dataset.columns"
   ]
  },
  {
   "cell_type": "code",
   "execution_count": 12,
   "id": "ad45fcad-6d86-4602-a427-da8007e72586",
   "metadata": {},
   "outputs": [
    {
     "data": {
      "text/plain": [
       "BENIGN      212718\n",
       "DDoS        128005\n",
       "PortScan     57305\n",
       "Name: Label, dtype: int64"
      ]
     },
     "execution_count": 12,
     "metadata": {},
     "output_type": "execute_result"
    }
   ],
   "source": [
    "dataset.Label.value_counts()"
   ]
  },
  {
   "cell_type": "code",
   "execution_count": 13,
   "id": "aa2165dd-4b41-42cc-81d9-b8955fba51cf",
   "metadata": {},
   "outputs": [],
   "source": [
    "features = dataset.loc[:, dataset.columns != 'Label'].astype('float64')"
   ]
  },
  {
   "cell_type": "code",
   "execution_count": 14,
   "id": "c0801abe-7e13-4a60-92ad-16594d3b04d8",
   "metadata": {},
   "outputs": [],
   "source": [
    "labels=pd.DataFrame()\n",
    "labels[\"Label\"] = dataset['Label']\n",
    "features = dataset.loc[:, dataset.columns != 'Label'].astype('float64')"
   ]
  },
  {
   "cell_type": "code",
   "execution_count": 15,
   "id": "ee8867d1-1cbe-4e91-8679-abc8d933c5e5",
   "metadata": {},
   "outputs": [],
   "source": [
    "scaler = RobustScaler()\n",
    "scaler.fit(features)\n",
    "\n",
    "features = scaler.transform(features)"
   ]
  },
  {
   "cell_type": "code",
   "execution_count": 16,
   "id": "bac79672-6bf7-4990-9469-d974b9fcdc73",
   "metadata": {},
   "outputs": [],
   "source": [
    "from sklearn.preprocessing import LabelEncoder\n",
    "LE = LabelEncoder()\n",
    "\n",
    "LE.fit(labels[\"Label\"])\n",
    "labels[\"Label\"] = LE.transform(labels[\"Label\"])"
   ]
  },
  {
   "cell_type": "code",
   "execution_count": 17,
   "id": "f2c75907-d938-49a9-8912-23e98eaabbb6",
   "metadata": {},
   "outputs": [
    {
     "data": {
      "text/plain": [
       "Label\n",
       "0        212718\n",
       "1        128005\n",
       "2         57305\n",
       "dtype: int64"
      ]
     },
     "execution_count": 17,
     "metadata": {},
     "output_type": "execute_result"
    }
   ],
   "source": [
    "labels.value_counts()"
   ]
  },
  {
   "cell_type": "code",
   "execution_count": 18,
   "id": "d1a360de-bd96-4e2b-9926-1d79a5bddb98",
   "metadata": {},
   "outputs": [
    {
     "data": {
      "text/plain": [
       "array(['BENIGN', 'DDoS', 'PortScan'], dtype=object)"
      ]
     },
     "execution_count": 18,
     "metadata": {},
     "output_type": "execute_result"
    }
   ],
   "source": [
    "d = LE.inverse_transform(labels[\"Label\"])\n",
    "d = pd.Series(d)\n",
    "d.unique()"
   ]
  },
  {
   "cell_type": "code",
   "execution_count": 19,
   "id": "6531a342-66a9-4d4e-9ae7-9737c96ce604",
   "metadata": {},
   "outputs": [],
   "source": [
    "# from imblearn.over_sampling import SMOTE\n",
    "# smt = SMOTE()\n",
    "# features, labels = smt.fit_resample(features, labels)"
   ]
  },
  {
   "cell_type": "code",
   "execution_count": 20,
   "id": "ae6c38ba-68ec-432d-9e1a-2b87913f132c",
   "metadata": {},
   "outputs": [],
   "source": [
    "# labels_train = df_train.pop(\"species\")\n",
    "# labels_test = df_test.pop(\"species\")\n",
    "# batch_size = 64\n",
    "# ds_train = tf.data.Dataset.from_tensor_slices((df_train,labels_train)).batch(batch_size)\n",
    "# ds_test = tf.data.Dataset.from_tensor_slices((df_test,labels_test)).batch(batch_size)"
   ]
  },
  {
   "cell_type": "code",
   "execution_count": 21,
   "id": "d1f7417c-c9f6-4801-9c76-6ce0e75b35b3",
   "metadata": {},
   "outputs": [
    {
     "data": {
      "text/plain": [
       "((318422, 78), (79606, 78), (318422,), (79606,))"
      ]
     },
     "execution_count": 21,
     "metadata": {},
     "output_type": "execute_result"
    }
   ],
   "source": [
    "from sklearn.model_selection import train_test_split\n",
    "\n",
    "# The next step is to split training and testing data. For this we will use sklearn function train_test_split().\n",
    "#label_label = labels[]\n",
    "label_label = labels[\"Label\"]\n",
    "\n",
    "features_train, features_test, labels_train, labels_test = train_test_split(features, label_label, test_size=.2)\n",
    "\n",
    "features_train.shape, features_test.shape, labels_train.shape, labels_test.shape"
   ]
  },
  {
   "cell_type": "code",
   "execution_count": 22,
   "id": "2c0ed627-959a-422b-a18f-b3b3883eee53",
   "metadata": {},
   "outputs": [
    {
     "name": "stdout",
     "output_type": "stream",
     "text": [
      "Metal device set to: Apple M1\n"
     ]
    },
    {
     "name": "stderr",
     "output_type": "stream",
     "text": [
      "2022-05-20 19:21:41.069269: I tensorflow/core/common_runtime/pluggable_device/pluggable_device_factory.cc:305] Could not identify NUMA node of platform GPU ID 0, defaulting to 0. Your kernel may not have been built with NUMA support.\n",
      "2022-05-20 19:21:41.069765: I tensorflow/core/common_runtime/pluggable_device/pluggable_device_factory.cc:271] Created TensorFlow device (/job:localhost/replica:0/task:0/device:GPU:0 with 0 MB memory) -> physical PluggableDevice (device: 0, name: METAL, pci bus id: <undefined>)\n"
     ]
    }
   ],
   "source": [
    "import tensorflow as tf\n",
    "batch_size=10000\n",
    "#label_label = labels[\"Label\"]\n",
    "\n",
    "ds_train = tf.data.Dataset.from_tensor_slices((features_train,labels_train)).batch(batch_size)\n",
    "ds_test = tf.data.Dataset.from_tensor_slices((features_test,labels_test)).batch(batch_size)"
   ]
  },
  {
   "cell_type": "code",
   "execution_count": 23,
   "id": "0186c9c7-697c-4499-a853-41624c148876",
   "metadata": {},
   "outputs": [
    {
     "data": {
      "text/html": [
       "<div>\n",
       "<style scoped>\n",
       "    .dataframe tbody tr th:only-of-type {\n",
       "        vertical-align: middle;\n",
       "    }\n",
       "\n",
       "    .dataframe tbody tr th {\n",
       "        vertical-align: top;\n",
       "    }\n",
       "\n",
       "    .dataframe thead th {\n",
       "        text-align: right;\n",
       "    }\n",
       "</style>\n",
       "<table border=\"1\" class=\"dataframe\">\n",
       "  <thead>\n",
       "    <tr style=\"text-align: right;\">\n",
       "      <th></th>\n",
       "      <th>Label</th>\n",
       "    </tr>\n",
       "  </thead>\n",
       "  <tbody>\n",
       "    <tr>\n",
       "      <th>0</th>\n",
       "      <td>0</td>\n",
       "    </tr>\n",
       "    <tr>\n",
       "      <th>1</th>\n",
       "      <td>0</td>\n",
       "    </tr>\n",
       "    <tr>\n",
       "      <th>2</th>\n",
       "      <td>0</td>\n",
       "    </tr>\n",
       "    <tr>\n",
       "      <th>3</th>\n",
       "      <td>0</td>\n",
       "    </tr>\n",
       "    <tr>\n",
       "      <th>4</th>\n",
       "      <td>0</td>\n",
       "    </tr>\n",
       "    <tr>\n",
       "      <th>...</th>\n",
       "      <td>...</td>\n",
       "    </tr>\n",
       "    <tr>\n",
       "      <th>398363</th>\n",
       "      <td>0</td>\n",
       "    </tr>\n",
       "    <tr>\n",
       "      <th>398364</th>\n",
       "      <td>0</td>\n",
       "    </tr>\n",
       "    <tr>\n",
       "      <th>398365</th>\n",
       "      <td>0</td>\n",
       "    </tr>\n",
       "    <tr>\n",
       "      <th>398366</th>\n",
       "      <td>0</td>\n",
       "    </tr>\n",
       "    <tr>\n",
       "      <th>398367</th>\n",
       "      <td>0</td>\n",
       "    </tr>\n",
       "  </tbody>\n",
       "</table>\n",
       "<p>398028 rows × 1 columns</p>\n",
       "</div>"
      ],
      "text/plain": [
       "        Label\n",
       "0           0\n",
       "1           0\n",
       "2           0\n",
       "3           0\n",
       "4           0\n",
       "...       ...\n",
       "398363      0\n",
       "398364      0\n",
       "398365      0\n",
       "398366      0\n",
       "398367      0\n",
       "\n",
       "[398028 rows x 1 columns]"
      ]
     },
     "execution_count": 23,
     "metadata": {},
     "output_type": "execute_result"
    }
   ],
   "source": [
    "labels"
   ]
  },
  {
   "cell_type": "code",
   "execution_count": 24,
   "id": "72159ffd-611c-46e6-93c6-fc28abc82e28",
   "metadata": {},
   "outputs": [],
   "source": [
    "class MLP(tf.keras.Model):\n",
    "    \"\"\"Model that returns logits.\"\"\"\n",
    "    def __init__(self, n_classes, hidden_layer_sizes=(78,67,67)):\n",
    "        super(MLP, self).__init__()\n",
    "        self.denses = [tf.keras.layers.Dense(s, activation=\"tanh\") for s in hidden_layer_sizes]\n",
    "        self.dense_class = tf.keras.layers.Dense(n_classes)\n",
    "        self.dropout = tf.keras.layers.Dropout(0.2)\n",
    "        \n",
    "    def call(self, inputs, training=False):\n",
    "        x = inputs\n",
    "        for dense in self.denses:\n",
    "            x = dense(x)\n",
    "            x = self.dropout(x, training=training)\n",
    "        return self.dense_class(x)\n",
    "\n",
    "logits_model = MLP(4)\n",
    "p = ltn.Predicate(ltn.utils.LogitsToPredicateModel(logits_model,single_label=True))"
   ]
  },
  {
   "cell_type": "code",
   "execution_count": 25,
   "id": "a5897ad4-b64d-46d9-b9d1-3846dc567cc8",
   "metadata": {},
   "outputs": [],
   "source": [
    "class_A = ltn.Constant(0, trainable=False)\n",
    "class_B = ltn.Constant(1, trainable=False)\n",
    "class_C = ltn.Constant(2, trainable=False)"
   ]
  },
  {
   "cell_type": "code",
   "execution_count": 26,
   "id": "ae5ecb58-9151-4fb2-90ab-96a4d6bc74f9",
   "metadata": {},
   "outputs": [],
   "source": [
    "Not = ltn.Wrapper_Connective(ltn.fuzzy_ops.Not_Std())\n",
    "And = ltn.Wrapper_Connective(ltn.fuzzy_ops.And_Prod())\n",
    "Or = ltn.Wrapper_Connective(ltn.fuzzy_ops.Or_ProbSum())\n",
    "Implies = ltn.Wrapper_Connective(ltn.fuzzy_ops.Implies_Reichenbach())\n",
    "Forall = ltn.Wrapper_Quantifier(ltn.fuzzy_ops.Aggreg_pMeanError(p=2),semantics=\"forall\")"
   ]
  },
  {
   "cell_type": "code",
   "execution_count": 27,
   "id": "679a4964-d69f-4f20-87dd-6f3b9f199628",
   "metadata": {},
   "outputs": [],
   "source": [
    "formula_aggregator = ltn.Wrapper_Formula_Aggregator(ltn.fuzzy_ops.Aggreg_pMeanError(p=2))\n",
    "\n",
    "@tf.function\n",
    "def axioms(features, labels, training=False):\n",
    "    x_A = ltn.Variable(\"x_A\",features[labels==0])\n",
    "    x_B = ltn.Variable(\"x_B\",features[labels==1])\n",
    "    x_C = ltn.Variable(\"x_C\",features[labels==2])\n",
    "    axioms = [\n",
    "        Forall(x_A,p([x_A,class_A],training=training)),\n",
    "        Forall(x_B,p([x_B,class_B],training=training)),\n",
    "        Forall(x_C,p([x_C,class_C],training=training))\n",
    "    ]\n",
    "    sat_level = formula_aggregator(axioms).tensor\n",
    "    return sat_level"
   ]
  },
  {
   "cell_type": "code",
   "execution_count": 28,
   "id": "7c709219-df1b-4a9c-a018-e0ce5383acf0",
   "metadata": {},
   "outputs": [
    {
     "name": "stderr",
     "output_type": "stream",
     "text": [
      "2022-05-20 19:21:42.074269: W tensorflow/core/platform/profile_utils/cpu_utils.cc:128] Failed to get CPU frequency: 0 Hz\n",
      "2022-05-20 19:21:42.074778: I tensorflow/core/grappler/optimizers/custom_graph_optimizer_registry.cc:112] Plugin optimizer for device_type GPU is enabled.\n"
     ]
    },
    {
     "name": "stdout",
     "output_type": "stream",
     "text": [
      "Initial sat level 0.23601\n"
     ]
    }
   ],
   "source": [
    "for features, labels in ds_test:\n",
    "    print(\"Initial sat level %.5f\"%axioms(features,labels))\n",
    "    break"
   ]
  },
  {
   "cell_type": "code",
   "execution_count": 29,
   "id": "dc66963b-e55d-4854-82e4-607b5eaf2003",
   "metadata": {},
   "outputs": [],
   "source": [
    "metrics_dict = {\n",
    "    'train_sat_kb': tf.keras.metrics.Mean(name='train_sat_kb'),\n",
    "    'test_sat_kb': tf.keras.metrics.Mean(name='test_sat_kb'),\n",
    "    'train_accuracy': tf.keras.metrics.CategoricalAccuracy(name=\"train_accuracy\"),\n",
    "    'test_accuracy': tf.keras.metrics.CategoricalAccuracy(name=\"test_accuracy\")\n",
    "}"
   ]
  },
  {
   "cell_type": "code",
   "execution_count": 30,
   "id": "4828c54b-ca0b-444d-9263-162b88b359cd",
   "metadata": {},
   "outputs": [],
   "source": [
    "optimizer = tf.keras.optimizers.Adam(learning_rate=0.001)\n",
    "@tf.function\n",
    "def train_step(features, labels):\n",
    "    # sat and update\n",
    "    with tf.GradientTape() as tape:\n",
    "        sat = axioms(features, labels, training=True)\n",
    "        loss = 1.-sat\n",
    "    gradients = tape.gradient(loss, p.trainable_variables)\n",
    "    optimizer.apply_gradients(zip(gradients, p.trainable_variables))\n",
    "    sat = axioms(features, labels) # compute sat without dropout\n",
    "    metrics_dict['train_sat_kb'](sat)\n",
    "    # accuracy\n",
    "    predictions = logits_model(features)\n",
    "    metrics_dict['train_accuracy'](tf.one_hot(labels,3),predictions)\n",
    "    \n",
    "@tf.function\n",
    "def test_step(features, labels):\n",
    "    # sat\n",
    "    sat = axioms(features, labels)\n",
    "    metrics_dict['test_sat_kb'](sat)\n",
    "    # accuracy\n",
    "    predictions = logits_model(features)\n",
    "    metrics_dict['test_accuracy'](tf.one_hot(labels,3),predictions)"
   ]
  },
  {
   "cell_type": "code",
   "execution_count": 31,
   "id": "3711a6d4-e914-4cc8-a0ab-b01c88354f48",
   "metadata": {},
   "outputs": [],
   "source": [
    "from collections import defaultdict\n",
    "\n",
    "def train(\n",
    "        epochs,\n",
    "        metrics_dict, \n",
    "        ds_train, \n",
    "        ds_test, \n",
    "        train_step, \n",
    "        test_step,\n",
    "        track_metrics=1,\n",
    "        csv_path=None,\n",
    "        scheduled_parameters=defaultdict(lambda : {})\n",
    "    ):\n",
    "    \"\"\"\n",
    "    Args:\n",
    "        epochs: int, number of training epochs.\n",
    "        metrics_dict: dict, {\"metrics_label\": tf.keras.metrics instance}.\n",
    "        ds_train: iterable dataset, e.g. using tf.data.Dataset.\n",
    "        ds_test: iterable dataset, e.g. using tf.data.Dataset.\n",
    "        train_step: callable function. the arguments passed to the function\n",
    "            are the itered elements of ds_train.\n",
    "        test_step: callable function. the arguments passed to the function\n",
    "            are the itered elements of ds_test.\n",
    "        csv_path: (optional) path to create a csv file, to save the metrics.\n",
    "        scheduled_parameters: (optional) a dictionary that returns kwargs for\n",
    "            the train_step and test_step functions, for each epoch.\n",
    "            Call using scheduled_parameters[epoch].\n",
    "    \"\"\"\n",
    "    template = \"Epoch {}\"\n",
    "    for metrics_label in metrics_dict.keys():\n",
    "        template += \", %s: {:.4f}\" % metrics_label\n",
    "    if csv_path is not None:\n",
    "        csv_file = open(csv_path,\"w+\")\n",
    "        headers = \",\".join([\"Epoch\"]+list(metrics_dict.keys()))\n",
    "        csv_template = \",\".join([\"{}\" for _ in range(len(metrics_dict)+1)])\n",
    "        csv_file.write(headers+\"\\n\")\n",
    "    \n",
    "    for epoch in range(epochs):\n",
    "        for metrics in metrics_dict.values():\n",
    "            metrics.reset_states()\n",
    "\n",
    "        for batch_elements in ds_train:\n",
    "            train_step(*batch_elements,**scheduled_parameters[epoch])\n",
    "        for batch_elements in ds_test:\n",
    "            test_step(*batch_elements,**scheduled_parameters[epoch])\n",
    "\n",
    "        metrics_results = [metrics.result() for metrics in metrics_dict.values()]\n",
    "        if epoch%track_metrics == 0:\n",
    "            print(template.format(epoch,*metrics_results))\n",
    "        if csv_path is not None:\n",
    "            csv_file.write(csv_template.format(epoch,*metrics_results)+\"\\n\")\n",
    "            csv_file.flush()\n",
    "    if csv_path is not None:\n",
    "        csv_file.close()"
   ]
  },
  {
   "cell_type": "code",
   "execution_count": 32,
   "id": "cea76e64-606e-4a18-889d-ed9180ac361f",
   "metadata": {},
   "outputs": [
    {
     "name": "stderr",
     "output_type": "stream",
     "text": [
      "2022-05-20 19:21:42.979515: I tensorflow/core/grappler/optimizers/custom_graph_optimizer_registry.cc:112] Plugin optimizer for device_type GPU is enabled.\n",
      "2022-05-20 19:21:52.218401: I tensorflow/core/grappler/optimizers/custom_graph_optimizer_registry.cc:112] Plugin optimizer for device_type GPU is enabled.\n",
      "2022-05-20 19:21:53.206405: I tensorflow/core/grappler/optimizers/custom_graph_optimizer_registry.cc:112] Plugin optimizer for device_type GPU is enabled.\n",
      "2022-05-20 19:21:54.295255: I tensorflow/core/grappler/optimizers/custom_graph_optimizer_registry.cc:112] Plugin optimizer for device_type GPU is enabled.\n"
     ]
    },
    {
     "name": "stdout",
     "output_type": "stream",
     "text": [
      "Epoch 0, train_sat_kb: 0.6315, test_sat_kb: 0.7588, train_accuracy: 0.7972, test_accuracy: 0.8956\n",
      "Epoch 1, train_sat_kb: 0.7849, test_sat_kb: 0.8111, train_accuracy: 0.9081, test_accuracy: 0.9229\n",
      "Epoch 2, train_sat_kb: 0.8129, test_sat_kb: 0.8198, train_accuracy: 0.9247, test_accuracy: 0.9461\n",
      "Epoch 3, train_sat_kb: 0.8113, test_sat_kb: 0.7989, train_accuracy: 0.9244, test_accuracy: 0.9220\n",
      "Epoch 4, train_sat_kb: 0.8118, test_sat_kb: 0.8240, train_accuracy: 0.9241, test_accuracy: 0.9276\n",
      "Epoch 5, train_sat_kb: 0.8093, test_sat_kb: 0.7979, train_accuracy: 0.9240, test_accuracy: 0.9254\n",
      "Epoch 6, train_sat_kb: 0.8055, test_sat_kb: 0.8054, train_accuracy: 0.9222, test_accuracy: 0.9217\n",
      "Epoch 7, train_sat_kb: 0.8141, test_sat_kb: 0.8263, train_accuracy: 0.9213, test_accuracy: 0.9222\n",
      "Epoch 8, train_sat_kb: 0.8115, test_sat_kb: 0.8130, train_accuracy: 0.9263, test_accuracy: 0.9265\n",
      "Epoch 9, train_sat_kb: 0.8119, test_sat_kb: 0.8130, train_accuracy: 0.9248, test_accuracy: 0.9264\n",
      "Epoch 10, train_sat_kb: 0.8194, test_sat_kb: 0.8294, train_accuracy: 0.9263, test_accuracy: 0.9269\n",
      "Epoch 11, train_sat_kb: 0.8136, test_sat_kb: 0.8153, train_accuracy: 0.9257, test_accuracy: 0.9267\n",
      "Epoch 12, train_sat_kb: 0.8139, test_sat_kb: 0.8177, train_accuracy: 0.9254, test_accuracy: 0.9267\n",
      "Epoch 13, train_sat_kb: 0.8243, test_sat_kb: 0.8329, train_accuracy: 0.9276, test_accuracy: 0.9269\n",
      "Epoch 14, train_sat_kb: 0.8339, test_sat_kb: 0.8398, train_accuracy: 0.9510, test_accuracy: 0.9517\n",
      "Epoch 15, train_sat_kb: 0.8330, test_sat_kb: 0.8395, train_accuracy: 0.9459, test_accuracy: 0.9576\n",
      "Epoch 16, train_sat_kb: 0.8292, test_sat_kb: 0.8243, train_accuracy: 0.9449, test_accuracy: 0.9276\n",
      "Epoch 17, train_sat_kb: 0.8300, test_sat_kb: 0.8262, train_accuracy: 0.9364, test_accuracy: 0.9277\n",
      "Epoch 18, train_sat_kb: 0.8266, test_sat_kb: 0.8091, train_accuracy: 0.9423, test_accuracy: 0.9291\n",
      "Epoch 19, train_sat_kb: 0.8074, test_sat_kb: 0.8116, train_accuracy: 0.9259, test_accuracy: 0.9269\n",
      "Epoch 20, train_sat_kb: 0.8089, test_sat_kb: 0.8110, train_accuracy: 0.9256, test_accuracy: 0.9267\n",
      "Epoch 21, train_sat_kb: 0.8145, test_sat_kb: 0.8200, train_accuracy: 0.9259, test_accuracy: 0.9267\n",
      "Epoch 22, train_sat_kb: 0.8238, test_sat_kb: 0.8302, train_accuracy: 0.9260, test_accuracy: 0.9269\n",
      "Epoch 23, train_sat_kb: 0.8332, test_sat_kb: 0.8359, train_accuracy: 0.9387, test_accuracy: 0.9541\n",
      "Epoch 24, train_sat_kb: 0.8349, test_sat_kb: 0.8281, train_accuracy: 0.9457, test_accuracy: 0.9570\n",
      "Epoch 25, train_sat_kb: 0.8339, test_sat_kb: 0.8354, train_accuracy: 0.9484, test_accuracy: 0.9559\n",
      "Epoch 26, train_sat_kb: 0.8194, test_sat_kb: 0.8146, train_accuracy: 0.9306, test_accuracy: 0.9271\n",
      "Epoch 27, train_sat_kb: 0.8139, test_sat_kb: 0.8169, train_accuracy: 0.9258, test_accuracy: 0.9275\n",
      "Epoch 28, train_sat_kb: 0.8165, test_sat_kb: 0.8192, train_accuracy: 0.9259, test_accuracy: 0.9271\n",
      "Epoch 29, train_sat_kb: 0.8249, test_sat_kb: 0.8366, train_accuracy: 0.9265, test_accuracy: 0.9289\n",
      "Epoch 30, train_sat_kb: 0.8348, test_sat_kb: 0.8348, train_accuracy: 0.9447, test_accuracy: 0.9540\n",
      "Epoch 31, train_sat_kb: 0.8291, test_sat_kb: 0.8186, train_accuracy: 0.9376, test_accuracy: 0.9409\n",
      "Epoch 32, train_sat_kb: 0.8346, test_sat_kb: 0.8433, train_accuracy: 0.9458, test_accuracy: 0.9627\n",
      "Epoch 33, train_sat_kb: 0.8171, test_sat_kb: 0.8238, train_accuracy: 0.9278, test_accuracy: 0.9276\n",
      "Epoch 34, train_sat_kb: 0.8273, test_sat_kb: 0.8288, train_accuracy: 0.9334, test_accuracy: 0.9298\n",
      "Epoch 35, train_sat_kb: 0.8283, test_sat_kb: 0.8314, train_accuracy: 0.9277, test_accuracy: 0.9289\n",
      "Epoch 36, train_sat_kb: 0.8339, test_sat_kb: 0.8373, train_accuracy: 0.9396, test_accuracy: 0.9567\n",
      "Epoch 37, train_sat_kb: 0.8367, test_sat_kb: 0.8389, train_accuracy: 0.9556, test_accuracy: 0.9585\n",
      "Epoch 38, train_sat_kb: 0.8119, test_sat_kb: 0.8107, train_accuracy: 0.9334, test_accuracy: 0.9274\n",
      "Epoch 39, train_sat_kb: 0.8137, test_sat_kb: 0.8117, train_accuracy: 0.9308, test_accuracy: 0.9344\n",
      "Epoch 40, train_sat_kb: 0.8108, test_sat_kb: 0.8131, train_accuracy: 0.9316, test_accuracy: 0.9336\n",
      "Epoch 41, train_sat_kb: 0.8147, test_sat_kb: 0.8064, train_accuracy: 0.9326, test_accuracy: 0.9271\n",
      "Epoch 42, train_sat_kb: 0.8102, test_sat_kb: 0.8140, train_accuracy: 0.9292, test_accuracy: 0.9347\n",
      "Epoch 43, train_sat_kb: 0.8250, test_sat_kb: 0.8379, train_accuracy: 0.9409, test_accuracy: 0.9571\n",
      "Epoch 44, train_sat_kb: 0.8356, test_sat_kb: 0.8378, train_accuracy: 0.9450, test_accuracy: 0.9572\n",
      "Epoch 45, train_sat_kb: 0.8298, test_sat_kb: 0.8226, train_accuracy: 0.9433, test_accuracy: 0.9273\n",
      "Epoch 46, train_sat_kb: 0.8219, test_sat_kb: 0.8261, train_accuracy: 0.9264, test_accuracy: 0.9279\n",
      "Epoch 47, train_sat_kb: 0.8309, test_sat_kb: 0.8388, train_accuracy: 0.9390, test_accuracy: 0.9282\n",
      "Epoch 48, train_sat_kb: 0.8253, test_sat_kb: 0.8251, train_accuracy: 0.9296, test_accuracy: 0.9273\n",
      "Epoch 49, train_sat_kb: 0.8278, test_sat_kb: 0.8317, train_accuracy: 0.9265, test_accuracy: 0.9276\n",
      "Epoch 50, train_sat_kb: 0.8318, test_sat_kb: 0.8358, train_accuracy: 0.9313, test_accuracy: 0.9282\n",
      "Epoch 51, train_sat_kb: 0.8366, test_sat_kb: 0.8391, train_accuracy: 0.9551, test_accuracy: 0.9571\n",
      "Epoch 52, train_sat_kb: 0.8384, test_sat_kb: 0.8377, train_accuracy: 0.9562, test_accuracy: 0.9573\n",
      "Epoch 53, train_sat_kb: 0.8371, test_sat_kb: 0.8407, train_accuracy: 0.9565, test_accuracy: 0.9590\n",
      "Epoch 54, train_sat_kb: 0.8354, test_sat_kb: 0.8156, train_accuracy: 0.9515, test_accuracy: 0.9278\n",
      "Epoch 55, train_sat_kb: 0.8223, test_sat_kb: 0.8191, train_accuracy: 0.9324, test_accuracy: 0.9245\n",
      "Epoch 56, train_sat_kb: 0.8264, test_sat_kb: 0.8170, train_accuracy: 0.9369, test_accuracy: 0.9276\n",
      "Epoch 57, train_sat_kb: 0.8153, test_sat_kb: 0.8164, train_accuracy: 0.9263, test_accuracy: 0.9274\n",
      "Epoch 58, train_sat_kb: 0.8184, test_sat_kb: 0.8206, train_accuracy: 0.9263, test_accuracy: 0.9275\n",
      "Epoch 59, train_sat_kb: 0.8258, test_sat_kb: 0.8351, train_accuracy: 0.9271, test_accuracy: 0.9295\n",
      "Epoch 60, train_sat_kb: 0.8380, test_sat_kb: 0.8382, train_accuracy: 0.9510, test_accuracy: 0.9298\n",
      "Epoch 61, train_sat_kb: 0.8159, test_sat_kb: 0.8119, train_accuracy: 0.9309, test_accuracy: 0.9274\n",
      "Epoch 62, train_sat_kb: 0.8146, test_sat_kb: 0.8163, train_accuracy: 0.9263, test_accuracy: 0.9275\n",
      "Epoch 63, train_sat_kb: 0.8163, test_sat_kb: 0.8177, train_accuracy: 0.9265, test_accuracy: 0.9275\n",
      "Epoch 64, train_sat_kb: 0.8183, test_sat_kb: 0.8188, train_accuracy: 0.9288, test_accuracy: 0.9281\n",
      "Epoch 65, train_sat_kb: 0.8199, test_sat_kb: 0.8203, train_accuracy: 0.9310, test_accuracy: 0.9332\n",
      "Epoch 66, train_sat_kb: 0.8207, test_sat_kb: 0.8234, train_accuracy: 0.9319, test_accuracy: 0.9335\n",
      "Epoch 67, train_sat_kb: 0.8220, test_sat_kb: 0.8222, train_accuracy: 0.9327, test_accuracy: 0.9335\n",
      "Epoch 68, train_sat_kb: 0.8233, test_sat_kb: 0.8244, train_accuracy: 0.9327, test_accuracy: 0.9336\n",
      "Epoch 69, train_sat_kb: 0.8249, test_sat_kb: 0.8263, train_accuracy: 0.9328, test_accuracy: 0.9337\n",
      "Epoch 70, train_sat_kb: 0.8271, test_sat_kb: 0.8292, train_accuracy: 0.9330, test_accuracy: 0.9341\n",
      "Epoch 71, train_sat_kb: 0.8297, test_sat_kb: 0.8301, train_accuracy: 0.9336, test_accuracy: 0.9346\n",
      "Epoch 72, train_sat_kb: 0.8327, test_sat_kb: 0.8341, train_accuracy: 0.9343, test_accuracy: 0.9353\n",
      "Epoch 73, train_sat_kb: 0.8366, test_sat_kb: 0.8346, train_accuracy: 0.9406, test_accuracy: 0.9538\n",
      "Epoch 74, train_sat_kb: 0.8341, test_sat_kb: 0.8371, train_accuracy: 0.9412, test_accuracy: 0.9298\n",
      "Epoch 75, train_sat_kb: 0.8381, test_sat_kb: 0.8391, train_accuracy: 0.9526, test_accuracy: 0.9303\n",
      "Epoch 76, train_sat_kb: 0.8387, test_sat_kb: 0.8395, train_accuracy: 0.9557, test_accuracy: 0.9307\n",
      "Epoch 77, train_sat_kb: 0.8394, test_sat_kb: 0.8266, train_accuracy: 0.9574, test_accuracy: 0.9279\n",
      "Epoch 78, train_sat_kb: 0.8353, test_sat_kb: 0.8386, train_accuracy: 0.9448, test_accuracy: 0.9565\n",
      "Epoch 79, train_sat_kb: 0.8390, test_sat_kb: 0.8405, train_accuracy: 0.9529, test_accuracy: 0.9336\n",
      "Epoch 80, train_sat_kb: 0.8407, test_sat_kb: 0.8411, train_accuracy: 0.9568, test_accuracy: 0.9337\n",
      "Epoch 81, train_sat_kb: 0.8401, test_sat_kb: 0.8215, train_accuracy: 0.9578, test_accuracy: 0.9437\n",
      "Epoch 82, train_sat_kb: 0.8338, test_sat_kb: 0.8392, train_accuracy: 0.9464, test_accuracy: 0.9349\n",
      "Epoch 83, train_sat_kb: 0.8397, test_sat_kb: 0.8414, train_accuracy: 0.9508, test_accuracy: 0.9353\n",
      "Epoch 84, train_sat_kb: 0.8411, test_sat_kb: 0.8284, train_accuracy: 0.9554, test_accuracy: 0.9347\n",
      "Epoch 85, train_sat_kb: 0.8382, test_sat_kb: 0.8407, train_accuracy: 0.9519, test_accuracy: 0.9290\n",
      "Epoch 86, train_sat_kb: 0.8296, test_sat_kb: 0.8162, train_accuracy: 0.9507, test_accuracy: 0.9358\n",
      "Epoch 87, train_sat_kb: 0.8135, test_sat_kb: 0.8147, train_accuracy: 0.9348, test_accuracy: 0.9361\n",
      "Epoch 88, train_sat_kb: 0.8146, test_sat_kb: 0.8138, train_accuracy: 0.9357, test_accuracy: 0.9370\n",
      "Epoch 89, train_sat_kb: 0.8150, test_sat_kb: 0.8131, train_accuracy: 0.9364, test_accuracy: 0.9381\n",
      "Epoch 90, train_sat_kb: 0.8177, test_sat_kb: 0.8216, train_accuracy: 0.9397, test_accuracy: 0.9483\n",
      "Epoch 91, train_sat_kb: 0.8302, test_sat_kb: 0.8251, train_accuracy: 0.9428, test_accuracy: 0.9287\n",
      "Epoch 92, train_sat_kb: 0.8259, test_sat_kb: 0.8257, train_accuracy: 0.9289, test_accuracy: 0.9287\n",
      "Epoch 93, train_sat_kb: 0.8275, test_sat_kb: 0.8278, train_accuracy: 0.9298, test_accuracy: 0.9287\n",
      "Epoch 94, train_sat_kb: 0.8297, test_sat_kb: 0.8303, train_accuracy: 0.9307, test_accuracy: 0.9289\n",
      "Epoch 95, train_sat_kb: 0.8331, test_sat_kb: 0.8339, train_accuracy: 0.9393, test_accuracy: 0.9291\n",
      "Epoch 96, train_sat_kb: 0.8362, test_sat_kb: 0.8377, train_accuracy: 0.9482, test_accuracy: 0.9291\n",
      "Epoch 97, train_sat_kb: 0.8382, test_sat_kb: 0.8388, train_accuracy: 0.9549, test_accuracy: 0.9291\n",
      "Epoch 98, train_sat_kb: 0.8388, test_sat_kb: 0.8392, train_accuracy: 0.9565, test_accuracy: 0.9292\n",
      "Epoch 99, train_sat_kb: 0.8395, test_sat_kb: 0.8427, train_accuracy: 0.9556, test_accuracy: 0.9622\n"
     ]
    }
   ],
   "source": [
    "EPOCHS = 100\n",
    "\n",
    "train(\n",
    "    EPOCHS,\n",
    "    metrics_dict,\n",
    "    ds_train,\n",
    "    ds_test,\n",
    "    train_step,\n",
    "    test_step,\n",
    "    csv_path=\"results_final_tanh_batchmare.csv\",\n",
    "    track_metrics=1\n",
    ")"
   ]
  },
  {
   "cell_type": "code",
   "execution_count": 35,
   "id": "8c743008-1174-411a-abb3-9883c61224db",
   "metadata": {},
   "outputs": [
    {
     "data": {
      "text/plain": [
       "Text(27.125, 0.5, 'Satisfiability')"
      ]
     },
     "execution_count": 35,
     "metadata": {},
     "output_type": "execute_result"
    },
    {
     "data": {
      "image/png": "[encoded data removed]",
      "text/plain": [
       "<Figure size 432x576 with 2 Axes>"
      ]
     },
     "metadata": {
      "needs_background": "light"
     },
     "output_type": "display_data"
    }
   ],
   "source": [
    "from pylab import rcParams\n",
    "import matplotlib\n",
    "import matplotlib.pyplot as plt\n",
    "rcParams['figure.figsize'] = 6, 8\n",
    "\n",
    "results = pd.read_csv(\"results_final_tanh_batchmare.csv\", skipinitialspace = True)\n",
    "fig, ax = plt.subplots(2,1)\n",
    "fig.tight_layout()\n",
    "#figure(figsize=(10, 6), dpi=150)\n",
    "ax[0].plot(results['train_accuracy'], color='b', label=\"Train accuracy\")\n",
    "ax[0].plot(results['test_accuracy'], color='r', label=\"Validation data accuracy\",axes =ax[0])\n",
    "legend = ax[0].legend(loc='best', shadow=True)\n",
    "ax[0].set_xlabel('Epochs')\n",
    "ax[0].set_ylabel('Accuracy')\n",
    "\n",
    "ax[1].plot(results['train_sat_kb'], color='b', label=\"Sat\")\n",
    "ax[1].plot(results['test_sat_kb'], color='r',label=\"Validation data sat\")\n",
    "legend = ax[1].legend(loc='best', shadow=True)\n",
    "ax[1].set_xlabel('Epochs')\n",
    "ax[1].set_ylabel('Satisfiability')\n",
    "\n"
   ]
  },
  {
   "cell_type": "code",
   "execution_count": null,
   "id": "1d90a098-56ab-4467-bec5-fb829725bcfc",
   "metadata": {},
   "outputs": [],
   "source": []
  }
 ],
 "metadata": {
  "kernelspec": {
   "display_name": "Python 3 (ipykernel)",
   "language": "python",
   "name": "python3"
  },
  "language_info": {
   "codemirror_mode": {
    "name": "ipython",
    "version": 3
   },
   "file_extension": ".py",
   "mimetype": "text/x-python",
   "name": "python",
   "nbconvert_exporter": "python",
   "pygments_lexer": "ipython3",
   "version": "3.9.7"
  }
 },
 "nbformat": 4,
 "nbformat_minor": 5
}
