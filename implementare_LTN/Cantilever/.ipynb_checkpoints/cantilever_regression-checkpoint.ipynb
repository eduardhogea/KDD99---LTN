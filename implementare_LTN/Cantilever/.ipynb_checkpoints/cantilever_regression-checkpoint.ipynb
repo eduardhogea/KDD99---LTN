{
 "cells": [
  {
   "cell_type": "code",
   "execution_count": 1,
   "id": "65aa9325-dc61-402d-9175-41e2c54506df",
   "metadata": {},
   "outputs": [],
   "source": [
    "import logging; logging.basicConfig(level=logging.INFO)\n",
    "import tensorflow as tf\n",
    "import numpy as np\n",
    "import matplotlib.pyplot as plt\n",
    "import logictensornetworks as ltn\n",
    "import pandas as pd"
   ]
  },
  {
   "cell_type": "code",
   "execution_count": 2,
   "id": "f92d3c34-d97c-4095-9e82-219c5f2fc4cd",
   "metadata": {},
   "outputs": [
    {
     "data": {
      "text/plain": [
       "(36573, 11)"
      ]
     },
     "execution_count": 2,
     "metadata": {},
     "output_type": "execute_result"
    }
   ],
   "source": [
    "df = pd.read_csv(\"/Users/eduard.hogea/Documents/Facultate/Internship/explorare/KNN99---LTN/datesets/training.csv\", on_bad_lines='skip', skiprows=1)\n",
    "df = df.sample(frac=1) #shuffle\n",
    "df.sample(5)\n",
    "df.shape"
   ]
  },
  {
   "cell_type": "code",
   "execution_count": 3,
   "id": "838bb1ac-5e3d-40f9-ada9-0056edf46985",
   "metadata": {},
   "outputs": [
    {
     "name": "stdout",
     "output_type": "stream",
     "text": [
      "Metal device set to: Apple M1\n"
     ]
    },
    {
     "name": "stderr",
     "output_type": "stream",
     "text": [
      "2022-04-07 19:33:09.421934: I tensorflow/core/common_runtime/pluggable_device/pluggable_device_factory.cc:305] Could not identify NUMA node of platform GPU ID 0, defaulting to 0. Your kernel may not have been built with NUMA support.\n",
      "2022-04-07 19:33:09.422019: I tensorflow/core/common_runtime/pluggable_device/pluggable_device_factory.cc:271] Created TensorFlow device (/job:localhost/replica:0/task:0/device:GPU:0 with 0 MB memory) -> physical PluggableDevice (device: 0, name: METAL, pci bus id: <undefined>)\n"
     ]
    }
   ],
   "source": [
    "x = df[['Severitate def', 'Severitate inc.', 'Mod 1', 'Mod 2','Mod 3','Mod 4','Mod 5','Mod 6','Mod 7','Mod 8']]\n",
    "y = df[['Pozitie']]\n",
    "\n",
    "batch_size=64\n",
    "ds_train = tf.data.Dataset.from_tensor_slices((x[:32000],y[:32000])).batch(batch_size)\n",
    "ds_test = tf.data.Dataset.from_tensor_slices((x[32000:],y[32000:])).batch(batch_size)"
   ]
  },
  {
   "cell_type": "code",
   "execution_count": 4,
   "id": "2bf0bf64-6b2e-4a9f-85b3-00dfa6ad3c3b",
   "metadata": {},
   "outputs": [
    {
     "data": {
      "text/plain": [
       "Pozitie            float64\n",
       "Severitate def     float64\n",
       "Severitate inc.    float64\n",
       "Mod 1              float64\n",
       "Mod 2              float64\n",
       "Mod 3              float64\n",
       "Mod 4              float64\n",
       "Mod 5              float64\n",
       "Mod 6              float64\n",
       "Mod 7              float64\n",
       "Mod 8              float64\n",
       "dtype: object"
      ]
     },
     "execution_count": 4,
     "metadata": {},
     "output_type": "execute_result"
    }
   ],
   "source": [
    "#df['Freq 1    f1 [Hz]'] = df['Freq 1    f1 [Hz]'].astype(float, errors = 'raise')\n",
    "df.dtypes"
   ]
  },
  {
   "cell_type": "code",
   "execution_count": 5,
   "id": "d9a68331-310f-490d-875d-d29659ef79a2",
   "metadata": {},
   "outputs": [],
   "source": [
    "f = ltn.Function.MLP(input_shapes=[10],output_shape=[1],hidden_layer_sizes=(12,12))"
   ]
  },
  {
   "cell_type": "code",
   "execution_count": 6,
   "id": "bf67f783-a79b-4f18-b98d-fae3af503e73",
   "metadata": {},
   "outputs": [],
   "source": [
    "eq = ltn.Predicate.Lambda(\n",
    "    #lambda args: tf.exp(-0.05*tf.sqrt(tf.reduce_sum(tf.square(args[0]-args[1]),axis=1)))        \n",
    "    lambda args: 1/(1+0.5*tf.sqrt(tf.reduce_sum(tf.square(args[0]-args[1]),axis=1)))\n",
    ")"
   ]
  },
  {
   "cell_type": "code",
   "execution_count": 7,
   "id": "2eb0af52-f081-4d41-908b-1d8bbbf7a4c3",
   "metadata": {},
   "outputs": [],
   "source": [
    "Not = ltn.Wrapper_Connective(ltn.fuzzy_ops.Not_Std())\n",
    "And = ltn.Wrapper_Connective(ltn.fuzzy_ops.And_Prod())\n",
    "Or = ltn.Wrapper_Connective(ltn.fuzzy_ops.Or_ProbSum())\n",
    "Implies = ltn.Wrapper_Connective(ltn.fuzzy_ops.Implies_Reichenbach())\n",
    "Forall = ltn.Wrapper_Quantifier(ltn.fuzzy_ops.Aggreg_pMeanError(p=2),semantics=\"forall\")\n",
    "Exists = ltn.Wrapper_Quantifier(ltn.fuzzy_ops.Aggreg_pMean(p=2),semantics=\"exists\")"
   ]
  },
  {
   "cell_type": "code",
   "execution_count": 8,
   "id": "07a3d6d6-a072-41fc-9af0-dbb84ceab774",
   "metadata": {},
   "outputs": [],
   "source": [
    "@tf.function\n",
    "def axioms(x_data, y_data):\n",
    "    x = ltn.Variable(\"x\", x_data)\n",
    "    y = ltn.Variable(\"y\", y_data)\n",
    "    return Forall(ltn.diag(x,y), eq([f(x),y])).tensor"
   ]
  },
  {
   "cell_type": "code",
   "execution_count": 9,
   "id": "c6732d31-0b31-49c4-ad80-ec80fb0e8524",
   "metadata": {},
   "outputs": [
    {
     "name": "stdout",
     "output_type": "stream",
     "text": [
      "Initial sat level 0.81258\n"
     ]
    },
    {
     "name": "stderr",
     "output_type": "stream",
     "text": [
      "2022-04-07 19:33:10.166724: W tensorflow/core/platform/profile_utils/cpu_utils.cc:128] Failed to get CPU frequency: 0 Hz\n",
      "2022-04-07 19:33:10.166776: I tensorflow/core/grappler/optimizers/custom_graph_optimizer_registry.cc:112] Plugin optimizer for device_type GPU is enabled.\n"
     ]
    }
   ],
   "source": [
    "for x, y in ds_test:\n",
    "    print(\"Initial sat level %.5f\"%axioms(x,y))\n",
    "    break"
   ]
  },
  {
   "cell_type": "code",
   "execution_count": 10,
   "id": "b23fd2dc-c1c1-49d5-8332-807578663f8d",
   "metadata": {},
   "outputs": [],
   "source": [
    "metrics_dict = {\n",
    "    'train_sat': tf.keras.metrics.Mean(name='train_sat'),\n",
    "    'test_sat': tf.keras.metrics.Mean(name='test_sat'),\n",
    "    'train_accuracy': tf.keras.metrics.RootMeanSquaredError(name=\"train_accuracy\"),\n",
    "    'test_accuracy': tf.keras.metrics.RootMeanSquaredError(name=\"test_accuracy\")\n",
    "}"
   ]
  },
  {
   "cell_type": "code",
   "execution_count": 11,
   "id": "49ca2f66-ad7b-4110-8e5b-9ed73680f610",
   "metadata": {},
   "outputs": [],
   "source": [
    "optimizer = tf.keras.optimizers.Adam(learning_rate=0.0005)\n",
    "@tf.function\n",
    "def train_step(x, y):\n",
    "    # sat and update\n",
    "    with tf.GradientTape() as tape:\n",
    "        sat = axioms(x, y)\n",
    "        loss = 1.-sat\n",
    "    gradients = tape.gradient(loss, f.trainable_variables)\n",
    "    optimizer.apply_gradients(zip(gradients, f.trainable_variables))\n",
    "    sat = axioms(x, y)\n",
    "    metrics_dict['train_sat'](sat)\n",
    "    # accuracy\n",
    "    metrics_dict['train_accuracy'](y,f.model(x))\n",
    "    \n",
    "@tf.function\n",
    "def test_step(x, y):\n",
    "    # sat\n",
    "    sat = axioms(x, y)\n",
    "    metrics_dict['test_sat'](sat)\n",
    "    # accuracy\n",
    "    metrics_dict['test_accuracy'](y,f.model(x))"
   ]
  },
  {
   "cell_type": "code",
   "execution_count": 12,
   "id": "4f4b8cf5-4626-4c6d-93f4-5480de07b8a9",
   "metadata": {},
   "outputs": [],
   "source": [
    "from collections import defaultdict\n",
    "\n",
    "def train(\n",
    "        epochs,\n",
    "        metrics_dict, \n",
    "        ds_train, \n",
    "        ds_test, \n",
    "        train_step, \n",
    "        test_step,\n",
    "        track_metrics=1,\n",
    "        csv_path=None,\n",
    "        scheduled_parameters=defaultdict(lambda : {})\n",
    "    ):\n",
    "    \"\"\"\n",
    "    Args:\n",
    "        epochs: int, number of training epochs.\n",
    "        metrics_dict: dict, {\"metrics_label\": tf.keras.metrics instance}.\n",
    "        ds_train: iterable dataset, e.g. using tf.data.Dataset.\n",
    "        ds_test: iterable dataset, e.g. using tf.data.Dataset.\n",
    "        train_step: callable function. the arguments passed to the function\n",
    "            are the itered elements of ds_train.\n",
    "        test_step: callable function. the arguments passed to the function\n",
    "            are the itered elements of ds_test.\n",
    "        csv_path: (optional) path to create a csv file, to save the metrics.\n",
    "        scheduled_parameters: (optional) a dictionary that returns kwargs for\n",
    "            the train_step and test_step functions, for each epoch.\n",
    "            Call using scheduled_parameters[epoch].\n",
    "    \"\"\"\n",
    "    template = \"Epoch {}\"\n",
    "    for metrics_label in metrics_dict.keys():\n",
    "        template += \", %s: {:.4f}\" % metrics_label\n",
    "    if csv_path is not None:\n",
    "        csv_file = open(csv_path,\"w+\")\n",
    "        headers = \",\".join([\"Epoch\"]+list(metrics_dict.keys()))\n",
    "        csv_template = \",\".join([\"{}\" for _ in range(len(metrics_dict)+1)])\n",
    "        csv_file.write(headers+\"\\n\")\n",
    "    \n",
    "    for epoch in range(epochs):\n",
    "        for metrics in metrics_dict.values():\n",
    "            metrics.reset_states()\n",
    "\n",
    "        for batch_elements in ds_train:\n",
    "            train_step(*batch_elements,**scheduled_parameters[epoch])\n",
    "        for batch_elements in ds_test:\n",
    "            test_step(*batch_elements,**scheduled_parameters[epoch])\n",
    "\n",
    "        metrics_results = [metrics.result() for metrics in metrics_dict.values()]\n",
    "        if epoch%track_metrics == 0:\n",
    "            print(template.format(epoch,*metrics_results))\n",
    "        if csv_path is not None:\n",
    "            csv_file.write(csv_template.format(epoch,*metrics_results)+\"\\n\")\n",
    "            csv_file.flush()\n",
    "    if csv_path is not None:\n",
    "        csv_file.close()"
   ]
  },
  {
   "cell_type": "code",
   "execution_count": 13,
   "id": "59dc367f-c0b5-4e5e-99cd-47fdf8d0a41c",
   "metadata": {},
   "outputs": [
    {
     "name": "stderr",
     "output_type": "stream",
     "text": [
      "2022-04-07 19:33:10.349683: I tensorflow/core/grappler/optimizers/custom_graph_optimizer_registry.cc:112] Plugin optimizer for device_type GPU is enabled.\n",
      "2022-04-07 19:33:15.125180: I tensorflow/core/grappler/optimizers/custom_graph_optimizer_registry.cc:112] Plugin optimizer for device_type GPU is enabled.\n",
      "2022-04-07 19:33:15.394619: I tensorflow/core/grappler/optimizers/custom_graph_optimizer_registry.cc:112] Plugin optimizer for device_type GPU is enabled.\n"
     ]
    },
    {
     "name": "stdout",
     "output_type": "stream",
     "text": [
      "Epoch 0, train_sat: 0.8755, test_sat: 0.8841, train_accuracy: 0.3033, test_accuracy: 0.2721\n",
      "Epoch 10, train_sat: 0.9062, test_sat: 0.9056, train_accuracy: 0.2190, test_accuracy: 0.2208\n",
      "Epoch 20, train_sat: 0.9104, test_sat: 0.9102, train_accuracy: 0.2073, test_accuracy: 0.2080\n",
      "Epoch 30, train_sat: 0.9237, test_sat: 0.9238, train_accuracy: 0.1748, test_accuracy: 0.1746\n",
      "Epoch 40, train_sat: 0.9350, test_sat: 0.9347, train_accuracy: 0.1479, test_accuracy: 0.1484\n",
      "Epoch 50, train_sat: 0.9428, test_sat: 0.9422, train_accuracy: 0.1293, test_accuracy: 0.1306\n",
      "Epoch 60, train_sat: 0.9496, test_sat: 0.9485, train_accuracy: 0.1134, test_accuracy: 0.1157\n",
      "Epoch 70, train_sat: 0.9549, test_sat: 0.9534, train_accuracy: 0.1008, test_accuracy: 0.1038\n",
      "Epoch 80, train_sat: 0.9589, test_sat: 0.9570, train_accuracy: 0.0913, test_accuracy: 0.0951\n",
      "Epoch 90, train_sat: 0.9620, test_sat: 0.9598, train_accuracy: 0.0840, test_accuracy: 0.0885\n"
     ]
    }
   ],
   "source": [
    "EPOCHS = 100\n",
    "\n",
    "train(\n",
    "    EPOCHS,\n",
    "    metrics_dict,\n",
    "    ds_train,\n",
    "    ds_test,\n",
    "    train_step,\n",
    "    test_step,\n",
    "    csv_path=\"regression_results.csv\",\n",
    "    track_metrics=10\n",
    ")"
   ]
  },
  {
   "cell_type": "code",
   "execution_count": 14,
   "id": "3d8920f2-689a-474f-bc49-1d39deba97a8",
   "metadata": {},
   "outputs": [],
   "source": [
    "import seaborn as sns\n",
    "sns.set(font_scale=1.2)"
   ]
  },
  {
   "cell_type": "code",
   "execution_count": 15,
   "id": "1acda274-adbb-4557-9beb-e51aba177b8c",
   "metadata": {},
   "outputs": [
    {
     "name": "stderr",
     "output_type": "stream",
     "text": [
      "/Users/eduard.hogea/miniforge3/envs/tensorflow/lib/python3.9/site-packages/seaborn/_decorators.py:36: FutureWarning: Pass the following variables as keyword args: x, y. From version 0.12, the only valid positional argument will be `data`, and passing other arguments without an explicit keyword will result in an error or misinterpretation.\n",
      "  warnings.warn(\n",
      "/Users/eduard.hogea/miniforge3/envs/tensorflow/lib/python3.9/site-packages/seaborn/_decorators.py:36: FutureWarning: Pass the following variables as keyword args: x, y. From version 0.12, the only valid positional argument will be `data`, and passing other arguments without an explicit keyword will result in an error or misinterpretation.\n",
      "  warnings.warn(\n"
     ]
    },
    {
     "data": {
      "image/png": "[encoded data removed]",
      "text/plain": [
       "<Figure size 720x360 with 2 Axes>"
      ]
     },
     "metadata": {},
     "output_type": "display_data"
    }
   ],
   "source": [
    "fig, axs = plt.subplots(1,2,figsize=(10,5))\n",
    "ax = axs[0]\n",
    "data = {'y_pred':[],'y_true':[]}\n",
    "for x,y in ds_train:\n",
    "    data['y_pred'].extend(f.model(x)[:,0].numpy())\n",
    "    data['y_true'].extend(y[:,0].numpy())\n",
    "df = pd.DataFrame(data,columns=['y_pred','y_true'])\n",
    "ax.set_xlim(0,80)\n",
    "ax.set_ylim(0,80)\n",
    "sns.regplot(\"y_true\",\"y_pred\",data=df,ax=ax,truncate=False,\n",
    "            scatter_kws={'alpha':0.5},line_kws={'color':'r','alpha':0.3,'linestyle':'--','linewidth':2})\n",
    "ax.plot([0,100],[0,100],color=\"gray\",linestyle=\"--\")\n",
    "ax.set_xlabel(\"Actual y values\")\n",
    "ax.set_ylabel(\"Fitted y values\")\n",
    "ax.set_title(\"Training Data\")\n",
    "\n",
    "ax = axs[1]\n",
    "data = {'y_pred':[],'y_true':[]}\n",
    "for x,y in ds_test:\n",
    "    data['y_pred'].extend(f.model(x)[:,0].numpy())\n",
    "    data['y_true'].extend(y[:,0].numpy())\n",
    "df = pd.DataFrame(data,columns=['y_pred','y_true'])\n",
    "ax.set_ylim(0,80)\n",
    "ax.set_xlim(0,80)\n",
    "sns.regplot(\"y_true\",\"y_pred\",data=df,ax=ax,truncate=False,\n",
    "            scatter_kws={'alpha':0.5},line_kws={'color':'r','alpha':0.3,'linestyle':'--','linewidth':2})\n",
    "ax.plot([0,100],[0,100],color=\"gray\",linestyle=\"--\")\n",
    "ax.set_xlabel(\"Actual y values\")\n",
    "ax.set_ylabel(\"Fitted y values\")\n",
    "ax.set_title(\"Test Data\")\n",
    "plt.tight_layout()\n",
    "plt.savefig(\"ex_regression2.pdf\")"
   ]
  },
  {
   "cell_type": "code",
   "execution_count": 17,
   "id": "883c7601-dd2c-46e3-bfaf-e7c93751d1f2",
   "metadata": {},
   "outputs": [
    {
     "data": {
      "text/html": [
       "<div>\n",
       "<style scoped>\n",
       "    .dataframe tbody tr th:only-of-type {\n",
       "        vertical-align: middle;\n",
       "    }\n",
       "\n",
       "    .dataframe tbody tr th {\n",
       "        vertical-align: top;\n",
       "    }\n",
       "\n",
       "    .dataframe thead th {\n",
       "        text-align: right;\n",
       "    }\n",
       "</style>\n",
       "<table border=\"1\" class=\"dataframe\">\n",
       "  <thead>\n",
       "    <tr style=\"text-align: right;\">\n",
       "      <th></th>\n",
       "      <th>y_pred</th>\n",
       "      <th>y_true</th>\n",
       "    </tr>\n",
       "  </thead>\n",
       "  <tbody>\n",
       "    <tr>\n",
       "      <th>238</th>\n",
       "      <td>0.064028</td>\n",
       "      <td>0.008</td>\n",
       "    </tr>\n",
       "    <tr>\n",
       "      <th>1555</th>\n",
       "      <td>0.703912</td>\n",
       "      <td>0.688</td>\n",
       "    </tr>\n",
       "    <tr>\n",
       "      <th>725</th>\n",
       "      <td>0.412448</td>\n",
       "      <td>0.354</td>\n",
       "    </tr>\n",
       "    <tr>\n",
       "      <th>82</th>\n",
       "      <td>0.711185</td>\n",
       "      <td>0.722</td>\n",
       "    </tr>\n",
       "    <tr>\n",
       "      <th>730</th>\n",
       "      <td>0.615966</td>\n",
       "      <td>0.624</td>\n",
       "    </tr>\n",
       "    <tr>\n",
       "      <th>2372</th>\n",
       "      <td>0.311883</td>\n",
       "      <td>0.280</td>\n",
       "    </tr>\n",
       "    <tr>\n",
       "      <th>1774</th>\n",
       "      <td>0.968346</td>\n",
       "      <td>0.944</td>\n",
       "    </tr>\n",
       "    <tr>\n",
       "      <th>1283</th>\n",
       "      <td>0.334581</td>\n",
       "      <td>0.318</td>\n",
       "    </tr>\n",
       "    <tr>\n",
       "      <th>499</th>\n",
       "      <td>0.750123</td>\n",
       "      <td>0.758</td>\n",
       "    </tr>\n",
       "    <tr>\n",
       "      <th>3628</th>\n",
       "      <td>0.862370</td>\n",
       "      <td>0.894</td>\n",
       "    </tr>\n",
       "  </tbody>\n",
       "</table>\n",
       "</div>"
      ],
      "text/plain": [
       "        y_pred  y_true\n",
       "238   0.064028   0.008\n",
       "1555  0.703912   0.688\n",
       "725   0.412448   0.354\n",
       "82    0.711185   0.722\n",
       "730   0.615966   0.624\n",
       "2372  0.311883   0.280\n",
       "1774  0.968346   0.944\n",
       "1283  0.334581   0.318\n",
       "499   0.750123   0.758\n",
       "3628  0.862370   0.894"
      ]
     },
     "execution_count": 17,
     "metadata": {},
     "output_type": "execute_result"
    }
   ],
   "source": [
    "df.sample(10)"
   ]
  },
  {
   "cell_type": "code",
   "execution_count": null,
   "id": "1e5f8a0a-661d-44f0-9c91-2620a9818c43",
   "metadata": {},
   "outputs": [],
   "source": []
  }
 ],
 "metadata": {
  "kernelspec": {
   "display_name": "Python 3 (ipykernel)",
   "language": "python",
   "name": "python3"
  },
  "language_info": {
   "codemirror_mode": {
    "name": "ipython",
    "version": 3
   },
   "file_extension": ".py",
   "mimetype": "text/x-python",
   "name": "python",
   "nbconvert_exporter": "python",
   "pygments_lexer": "ipython3",
   "version": "3.9.7"
  }
 },
 "nbformat": 4,
 "nbformat_minor": 5
}
